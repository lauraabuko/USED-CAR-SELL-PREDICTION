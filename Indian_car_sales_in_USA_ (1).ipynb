{
  "cells": [
    {
      "cell_type": "markdown",
      "metadata": {
        "id": "JyRU-NES-lk3"
      },
      "source": [
        "# **USED CAR SALE PREDICTION**"
      ]
    },
    {
      "cell_type": "markdown",
      "metadata": {
        "id": "71mAx2Nw-lau"
      },
      "source": [
        "# **INTRODUCTION**"
      ]
    },
    {
      "cell_type": "markdown",
      "metadata": {
        "id": "eZPbV25x-lNv"
      },
      "source": [
        "**Overview**"
      ]
    },
    {
      "cell_type": "markdown",
      "metadata": {
        "id": "pHPmSk0--k_L"
      },
      "source": [
        "Finding a good car can sometimes be a hustle especially for first time car owners. This can be attributed to the fact that it is very easy to get conned into buying a vehicle that does not serve your purpose for the period you intend to own the vehicle. It might also be equally hard to resell your vehicle once you are done with it and you may end up selling it at a throw away price.\n",
        "It is equally hard for car dealers, especially second hand car dealers whose whole business is to buy and sell used cars as they face almost similar problems in selling second hand vehicles.\n",
        "It is therefore really important to understand how the second hand car market works before committing to purchase the car of your dreams.\n"
      ]
    },
    {
      "cell_type": "markdown",
      "metadata": {
        "id": "_k5LJao8-kyF"
      },
      "source": [
        "**Defining our question**"
      ]
    },
    {
      "cell_type": "markdown",
      "metadata": {
        "id": "W32aVkDI-km8"
      },
      "source": [
        "Create a model that predicts if a dealer will manage to sell a used car or not.\n",
        "\n"
      ]
    },
    {
      "cell_type": "markdown",
      "metadata": {
        "id": "eINP_SC7-kRO"
      },
      "source": [
        "**Metrics for success**"
      ]
    },
    {
      "cell_type": "markdown",
      "metadata": {
        "id": "BIOlNt81-kCJ"
      },
      "source": [
        "* Visualising the relationships between the sold/unsld cars  and various  features such as age, cholesterol level, resting ecg results etc.\n",
        "* Building a model that can determine whether a dealer will sell a used car or not.\n",
        "* Identifying the top features influencing  whether a dealer will sell a used car or not."
      ]
    },
    {
      "cell_type": "markdown",
      "metadata": {
        "id": "D5ERD51h-jwt"
      },
      "source": [
        "**Understanding context**"
      ]
    },
    {
      "cell_type": "markdown",
      "metadata": {
        "id": "wwJaV2h6-jac"
      },
      "source": [
        "A dealer may purchase a vehicle that is hard to resale which will adversely affect his business in terms of very low profits and sometimes losses which might end up putting him out of business.\n",
        "It is therefore really important for second hand car dealers to understand which vehicles to purchase for resale to increase his profit margins.\n"
      ]
    },
    {
      "cell_type": "markdown",
      "metadata": {
        "id": "chNdKXLi-jOi"
      },
      "source": [
        "**Recording experimental design**"
      ]
    },
    {
      "cell_type": "markdown",
      "metadata": {
        "id": "_cuhwfHs-jCU"
      },
      "source": [
        "\n",
        "\n",
        "*   Determine the main objectives\n",
        "*Load and preview the dataset.\n",
        "*Understand the data.\n",
        "*Prepare the dataset - Identify outliers, anomalies, duplicates, missing *values, and determine how deal with them etc.\n",
        "*Carry out univariate analysis, bivariate analysis, and modelling.\n",
        "*Challenge the solution.\n",
        "*Conclusion and recommendations\n",
        "\n",
        "\n"
      ]
    },
    {
      "cell_type": "markdown",
      "metadata": {
        "id": "KgA0U47z-i4j"
      },
      "source": [
        "**Relevance of data**"
      ]
    },
    {
      "cell_type": "markdown",
      "metadata": {
        "id": "1YRJfIoY-ioI"
      },
      "source": [
        "Used Car Data\n",
        "\n",
        "\n",
        "\n",
        "The dataset is from kaggle and can be accessed https://www.kaggle.com/datasets/shubham1kumar/usedcar-data. The data is from the USA Automobile industry for Indian used cars and it relevant for our analysis.\n",
        "The dataset has 7906 rows and 17 columns.\n",
        "\n",
        "The columns are:\n",
        "* Sales_ID (Sales ID)\n",
        "* name (Name of the used car)\n",
        "* year (Year of the car purchase)\n",
        "* selling_price (Current selling price for used car)\n",
        "* km_driven (Total km driven)\n",
        "* Region (Region where it is used)\n",
        "* State or Province (State or Province where it is used)\n",
        "* City (City where it is used)\n",
        "* fuel (Fuel type)\n",
        "* seller_type (Who is selling the car)\n",
        "* transmission (Transmission type of the car)\n",
        "* owner (Owner type)\n",
        "* mileage (Mileage of the car)\n",
        "* engine (engine power)\n",
        "* max_power (max power)\n",
        "* seats (Number of seats)\n",
        "* sold (used car sold or not)\n",
        "\n",
        "\n",
        "\n",
        "\n"
      ]
    },
    {
      "cell_type": "markdown",
      "metadata": {
        "id": "CwyonzkJ-iXK"
      },
      "source": [
        "# **Term Explanations**"
      ]
    },
    {
      "cell_type": "markdown",
      "metadata": {
        "id": "f-VPPSfjTTO2"
      },
      "source": [
        "* Torque\n",
        "\n",
        "Torque is a twisting force that speaks to the engine's rotational force and measures how much of that twisting force is available when an engine exerts itself\n",
        "\n",
        "A high torque enables efficient and energy-saving driving. A high engine power enables a car to accelerate quickly and reach a high top speed."
      ]
    },
    {
      "cell_type": "markdown",
      "metadata": {
        "id": "kfC7AhoF-hoG"
      },
      "source": [
        "# **DATA LOADING**"
      ]
    },
    {
      "cell_type": "markdown",
      "metadata": {
        "id": "4aWCufaf-hdf"
      },
      "source": [
        "**Importing our libraries**"
      ]
    },
    {
      "cell_type": "code",
      "execution_count": null,
      "metadata": {
        "id": "TVVuy6Kpcyd9"
      },
      "outputs": [],
      "source": [
        "import pandas as pd\n",
        "import numpy as np \n",
        "import matplotlib.pyplot as plt\n",
        "import seaborn as sns\n",
        "import warnings \n",
        "warnings.filterwarnings('ignore')"
      ]
    },
    {
      "cell_type": "code",
      "execution_count": null,
      "metadata": {
        "id": "aSROwQnTbkO8"
      },
      "outputs": [],
      "source": [
        "# loading the data \n",
        "data = pd.read_csv('UserCarData.csv')"
      ]
    },
    {
      "cell_type": "code",
      "execution_count": null,
      "metadata": {
        "colab": {
          "base_uri": "https://localhost:8080/"
        },
        "id": "coEyOoCuc2UC",
        "outputId": "9d6be878-c17a-4fba-bf37-25fdc8c24a04"
      },
      "outputs": [
        {
          "output_type": "execute_result",
          "data": {
            "text/plain": [
              "(7906, 18)"
            ]
          },
          "metadata": {},
          "execution_count": 4
        }
      ],
      "source": [
        "# checking the dimensions of the data\n",
        "\n",
        "data.shape\n",
        "# the data has 18 columns and 7906 rows"
      ]
    },
    {
      "cell_type": "markdown",
      "metadata": {
        "id": "WO-bIzlqVZe7"
      },
      "source": [
        " * The dataset has 18 columns and 7906 rows"
      ]
    },
    {
      "cell_type": "code",
      "execution_count": null,
      "metadata": {
        "colab": {
          "base_uri": "https://localhost:8080/",
          "height": 226
        },
        "id": "3zn43ZUcc-v5",
        "outputId": "27f98654-3ffa-49cb-918b-f40305bc976b"
      },
      "outputs": [
        {
          "output_type": "execute_result",
          "data": {
            "text/plain": [
              "   Sales_ID    name  year  selling_price  km_driven Region  \\\n",
              "0         1  Maruti  2014         450000     145500   East   \n",
              "1         2   Skoda  2014         370000     120000   East   \n",
              "\n",
              "      State or Province           City    fuel seller_type transmission  \\\n",
              "0  District of Columbia     Washington  Diesel  Individual       Manual   \n",
              "1              New York  New York City  Diesel  Individual       Manual   \n",
              "\n",
              "          owner  mileage  engine  max_power               torque  seats sold  \n",
              "0   First_Owner    23.40    1248      74.00       190Nm@ 2000rpm      5    Y  \n",
              "1  Second_Owner    21.14    1498     103.52  250Nm@ 1500-2500rpm      5    Y  "
            ],
            "text/html": [
              "\n",
              "  <div id=\"df-8a55bc79-1af0-44c5-a495-afc181dad48e\">\n",
              "    <div class=\"colab-df-container\">\n",
              "      <div>\n",
              "<style scoped>\n",
              "    .dataframe tbody tr th:only-of-type {\n",
              "        vertical-align: middle;\n",
              "    }\n",
              "\n",
              "    .dataframe tbody tr th {\n",
              "        vertical-align: top;\n",
              "    }\n",
              "\n",
              "    .dataframe thead th {\n",
              "        text-align: right;\n",
              "    }\n",
              "</style>\n",
              "<table border=\"1\" class=\"dataframe\">\n",
              "  <thead>\n",
              "    <tr style=\"text-align: right;\">\n",
              "      <th></th>\n",
              "      <th>Sales_ID</th>\n",
              "      <th>name</th>\n",
              "      <th>year</th>\n",
              "      <th>selling_price</th>\n",
              "      <th>km_driven</th>\n",
              "      <th>Region</th>\n",
              "      <th>State or Province</th>\n",
              "      <th>City</th>\n",
              "      <th>fuel</th>\n",
              "      <th>seller_type</th>\n",
              "      <th>transmission</th>\n",
              "      <th>owner</th>\n",
              "      <th>mileage</th>\n",
              "      <th>engine</th>\n",
              "      <th>max_power</th>\n",
              "      <th>torque</th>\n",
              "      <th>seats</th>\n",
              "      <th>sold</th>\n",
              "    </tr>\n",
              "  </thead>\n",
              "  <tbody>\n",
              "    <tr>\n",
              "      <th>0</th>\n",
              "      <td>1</td>\n",
              "      <td>Maruti</td>\n",
              "      <td>2014</td>\n",
              "      <td>450000</td>\n",
              "      <td>145500</td>\n",
              "      <td>East</td>\n",
              "      <td>District of Columbia</td>\n",
              "      <td>Washington</td>\n",
              "      <td>Diesel</td>\n",
              "      <td>Individual</td>\n",
              "      <td>Manual</td>\n",
              "      <td>First_Owner</td>\n",
              "      <td>23.40</td>\n",
              "      <td>1248</td>\n",
              "      <td>74.00</td>\n",
              "      <td>190Nm@ 2000rpm</td>\n",
              "      <td>5</td>\n",
              "      <td>Y</td>\n",
              "    </tr>\n",
              "    <tr>\n",
              "      <th>1</th>\n",
              "      <td>2</td>\n",
              "      <td>Skoda</td>\n",
              "      <td>2014</td>\n",
              "      <td>370000</td>\n",
              "      <td>120000</td>\n",
              "      <td>East</td>\n",
              "      <td>New York</td>\n",
              "      <td>New York City</td>\n",
              "      <td>Diesel</td>\n",
              "      <td>Individual</td>\n",
              "      <td>Manual</td>\n",
              "      <td>Second_Owner</td>\n",
              "      <td>21.14</td>\n",
              "      <td>1498</td>\n",
              "      <td>103.52</td>\n",
              "      <td>250Nm@ 1500-2500rpm</td>\n",
              "      <td>5</td>\n",
              "      <td>Y</td>\n",
              "    </tr>\n",
              "  </tbody>\n",
              "</table>\n",
              "</div>\n",
              "      <button class=\"colab-df-convert\" onclick=\"convertToInteractive('df-8a55bc79-1af0-44c5-a495-afc181dad48e')\"\n",
              "              title=\"Convert this dataframe to an interactive table.\"\n",
              "              style=\"display:none;\">\n",
              "        \n",
              "  <svg xmlns=\"http://www.w3.org/2000/svg\" height=\"24px\"viewBox=\"0 0 24 24\"\n",
              "       width=\"24px\">\n",
              "    <path d=\"M0 0h24v24H0V0z\" fill=\"none\"/>\n",
              "    <path d=\"M18.56 5.44l.94 2.06.94-2.06 2.06-.94-2.06-.94-.94-2.06-.94 2.06-2.06.94zm-11 1L8.5 8.5l.94-2.06 2.06-.94-2.06-.94L8.5 2.5l-.94 2.06-2.06.94zm10 10l.94 2.06.94-2.06 2.06-.94-2.06-.94-.94-2.06-.94 2.06-2.06.94z\"/><path d=\"M17.41 7.96l-1.37-1.37c-.4-.4-.92-.59-1.43-.59-.52 0-1.04.2-1.43.59L10.3 9.45l-7.72 7.72c-.78.78-.78 2.05 0 2.83L4 21.41c.39.39.9.59 1.41.59.51 0 1.02-.2 1.41-.59l7.78-7.78 2.81-2.81c.8-.78.8-2.07 0-2.86zM5.41 20L4 18.59l7.72-7.72 1.47 1.35L5.41 20z\"/>\n",
              "  </svg>\n",
              "      </button>\n",
              "      \n",
              "  <style>\n",
              "    .colab-df-container {\n",
              "      display:flex;\n",
              "      flex-wrap:wrap;\n",
              "      gap: 12px;\n",
              "    }\n",
              "\n",
              "    .colab-df-convert {\n",
              "      background-color: #E8F0FE;\n",
              "      border: none;\n",
              "      border-radius: 50%;\n",
              "      cursor: pointer;\n",
              "      display: none;\n",
              "      fill: #1967D2;\n",
              "      height: 32px;\n",
              "      padding: 0 0 0 0;\n",
              "      width: 32px;\n",
              "    }\n",
              "\n",
              "    .colab-df-convert:hover {\n",
              "      background-color: #E2EBFA;\n",
              "      box-shadow: 0px 1px 2px rgba(60, 64, 67, 0.3), 0px 1px 3px 1px rgba(60, 64, 67, 0.15);\n",
              "      fill: #174EA6;\n",
              "    }\n",
              "\n",
              "    [theme=dark] .colab-df-convert {\n",
              "      background-color: #3B4455;\n",
              "      fill: #D2E3FC;\n",
              "    }\n",
              "\n",
              "    [theme=dark] .colab-df-convert:hover {\n",
              "      background-color: #434B5C;\n",
              "      box-shadow: 0px 1px 3px 1px rgba(0, 0, 0, 0.15);\n",
              "      filter: drop-shadow(0px 1px 2px rgba(0, 0, 0, 0.3));\n",
              "      fill: #FFFFFF;\n",
              "    }\n",
              "  </style>\n",
              "\n",
              "      <script>\n",
              "        const buttonEl =\n",
              "          document.querySelector('#df-8a55bc79-1af0-44c5-a495-afc181dad48e button.colab-df-convert');\n",
              "        buttonEl.style.display =\n",
              "          google.colab.kernel.accessAllowed ? 'block' : 'none';\n",
              "\n",
              "        async function convertToInteractive(key) {\n",
              "          const element = document.querySelector('#df-8a55bc79-1af0-44c5-a495-afc181dad48e');\n",
              "          const dataTable =\n",
              "            await google.colab.kernel.invokeFunction('convertToInteractive',\n",
              "                                                     [key], {});\n",
              "          if (!dataTable) return;\n",
              "\n",
              "          const docLinkHtml = 'Like what you see? Visit the ' +\n",
              "            '<a target=\"_blank\" href=https://colab.research.google.com/notebooks/data_table.ipynb>data table notebook</a>'\n",
              "            + ' to learn more about interactive tables.';\n",
              "          element.innerHTML = '';\n",
              "          dataTable['output_type'] = 'display_data';\n",
              "          await google.colab.output.renderOutput(dataTable, element);\n",
              "          const docLink = document.createElement('div');\n",
              "          docLink.innerHTML = docLinkHtml;\n",
              "          element.appendChild(docLink);\n",
              "        }\n",
              "      </script>\n",
              "    </div>\n",
              "  </div>\n",
              "  "
            ]
          },
          "metadata": {},
          "execution_count": 5
        }
      ],
      "source": [
        "# previewing the first 2 rows \n",
        "data.head(2)"
      ]
    },
    {
      "cell_type": "code",
      "execution_count": null,
      "metadata": {
        "colab": {
          "base_uri": "https://localhost:8080/",
          "height": 243
        },
        "id": "k2NeaQTNdE7X",
        "outputId": "28b612fa-cccb-4fd7-c13f-7b6de6bc48cd"
      },
      "outputs": [
        {
          "output_type": "execute_result",
          "data": {
            "text/plain": [
              "      Sales_ID  name  year  selling_price  km_driven Region State or Province  \\\n",
              "7904      8127  Tata  2013         290000      25000   East     Massachusetts   \n",
              "7905      8128  Tata  2013         290000      25000   East             Maine   \n",
              "\n",
              "           City    fuel seller_type transmission        owner  mileage  \\\n",
              "7904  Lunenburg  Diesel  Individual       Manual  First_Owner    23.57   \n",
              "7905    Augusta  Diesel  Individual       Manual  First_Owner    23.57   \n",
              "\n",
              "      engine  max_power               torque  seats sold  \n",
              "7904    1396       70.0  140Nm@ 1800-3000rpm      5    N  \n",
              "7905    1396       70.0  140Nm@ 1800-3000rpm      5    N  "
            ],
            "text/html": [
              "\n",
              "  <div id=\"df-7b4e6c28-538b-4bcd-b159-180ecd4de2c0\">\n",
              "    <div class=\"colab-df-container\">\n",
              "      <div>\n",
              "<style scoped>\n",
              "    .dataframe tbody tr th:only-of-type {\n",
              "        vertical-align: middle;\n",
              "    }\n",
              "\n",
              "    .dataframe tbody tr th {\n",
              "        vertical-align: top;\n",
              "    }\n",
              "\n",
              "    .dataframe thead th {\n",
              "        text-align: right;\n",
              "    }\n",
              "</style>\n",
              "<table border=\"1\" class=\"dataframe\">\n",
              "  <thead>\n",
              "    <tr style=\"text-align: right;\">\n",
              "      <th></th>\n",
              "      <th>Sales_ID</th>\n",
              "      <th>name</th>\n",
              "      <th>year</th>\n",
              "      <th>selling_price</th>\n",
              "      <th>km_driven</th>\n",
              "      <th>Region</th>\n",
              "      <th>State or Province</th>\n",
              "      <th>City</th>\n",
              "      <th>fuel</th>\n",
              "      <th>seller_type</th>\n",
              "      <th>transmission</th>\n",
              "      <th>owner</th>\n",
              "      <th>mileage</th>\n",
              "      <th>engine</th>\n",
              "      <th>max_power</th>\n",
              "      <th>torque</th>\n",
              "      <th>seats</th>\n",
              "      <th>sold</th>\n",
              "    </tr>\n",
              "  </thead>\n",
              "  <tbody>\n",
              "    <tr>\n",
              "      <th>7904</th>\n",
              "      <td>8127</td>\n",
              "      <td>Tata</td>\n",
              "      <td>2013</td>\n",
              "      <td>290000</td>\n",
              "      <td>25000</td>\n",
              "      <td>East</td>\n",
              "      <td>Massachusetts</td>\n",
              "      <td>Lunenburg</td>\n",
              "      <td>Diesel</td>\n",
              "      <td>Individual</td>\n",
              "      <td>Manual</td>\n",
              "      <td>First_Owner</td>\n",
              "      <td>23.57</td>\n",
              "      <td>1396</td>\n",
              "      <td>70.0</td>\n",
              "      <td>140Nm@ 1800-3000rpm</td>\n",
              "      <td>5</td>\n",
              "      <td>N</td>\n",
              "    </tr>\n",
              "    <tr>\n",
              "      <th>7905</th>\n",
              "      <td>8128</td>\n",
              "      <td>Tata</td>\n",
              "      <td>2013</td>\n",
              "      <td>290000</td>\n",
              "      <td>25000</td>\n",
              "      <td>East</td>\n",
              "      <td>Maine</td>\n",
              "      <td>Augusta</td>\n",
              "      <td>Diesel</td>\n",
              "      <td>Individual</td>\n",
              "      <td>Manual</td>\n",
              "      <td>First_Owner</td>\n",
              "      <td>23.57</td>\n",
              "      <td>1396</td>\n",
              "      <td>70.0</td>\n",
              "      <td>140Nm@ 1800-3000rpm</td>\n",
              "      <td>5</td>\n",
              "      <td>N</td>\n",
              "    </tr>\n",
              "  </tbody>\n",
              "</table>\n",
              "</div>\n",
              "      <button class=\"colab-df-convert\" onclick=\"convertToInteractive('df-7b4e6c28-538b-4bcd-b159-180ecd4de2c0')\"\n",
              "              title=\"Convert this dataframe to an interactive table.\"\n",
              "              style=\"display:none;\">\n",
              "        \n",
              "  <svg xmlns=\"http://www.w3.org/2000/svg\" height=\"24px\"viewBox=\"0 0 24 24\"\n",
              "       width=\"24px\">\n",
              "    <path d=\"M0 0h24v24H0V0z\" fill=\"none\"/>\n",
              "    <path d=\"M18.56 5.44l.94 2.06.94-2.06 2.06-.94-2.06-.94-.94-2.06-.94 2.06-2.06.94zm-11 1L8.5 8.5l.94-2.06 2.06-.94-2.06-.94L8.5 2.5l-.94 2.06-2.06.94zm10 10l.94 2.06.94-2.06 2.06-.94-2.06-.94-.94-2.06-.94 2.06-2.06.94z\"/><path d=\"M17.41 7.96l-1.37-1.37c-.4-.4-.92-.59-1.43-.59-.52 0-1.04.2-1.43.59L10.3 9.45l-7.72 7.72c-.78.78-.78 2.05 0 2.83L4 21.41c.39.39.9.59 1.41.59.51 0 1.02-.2 1.41-.59l7.78-7.78 2.81-2.81c.8-.78.8-2.07 0-2.86zM5.41 20L4 18.59l7.72-7.72 1.47 1.35L5.41 20z\"/>\n",
              "  </svg>\n",
              "      </button>\n",
              "      \n",
              "  <style>\n",
              "    .colab-df-container {\n",
              "      display:flex;\n",
              "      flex-wrap:wrap;\n",
              "      gap: 12px;\n",
              "    }\n",
              "\n",
              "    .colab-df-convert {\n",
              "      background-color: #E8F0FE;\n",
              "      border: none;\n",
              "      border-radius: 50%;\n",
              "      cursor: pointer;\n",
              "      display: none;\n",
              "      fill: #1967D2;\n",
              "      height: 32px;\n",
              "      padding: 0 0 0 0;\n",
              "      width: 32px;\n",
              "    }\n",
              "\n",
              "    .colab-df-convert:hover {\n",
              "      background-color: #E2EBFA;\n",
              "      box-shadow: 0px 1px 2px rgba(60, 64, 67, 0.3), 0px 1px 3px 1px rgba(60, 64, 67, 0.15);\n",
              "      fill: #174EA6;\n",
              "    }\n",
              "\n",
              "    [theme=dark] .colab-df-convert {\n",
              "      background-color: #3B4455;\n",
              "      fill: #D2E3FC;\n",
              "    }\n",
              "\n",
              "    [theme=dark] .colab-df-convert:hover {\n",
              "      background-color: #434B5C;\n",
              "      box-shadow: 0px 1px 3px 1px rgba(0, 0, 0, 0.15);\n",
              "      filter: drop-shadow(0px 1px 2px rgba(0, 0, 0, 0.3));\n",
              "      fill: #FFFFFF;\n",
              "    }\n",
              "  </style>\n",
              "\n",
              "      <script>\n",
              "        const buttonEl =\n",
              "          document.querySelector('#df-7b4e6c28-538b-4bcd-b159-180ecd4de2c0 button.colab-df-convert');\n",
              "        buttonEl.style.display =\n",
              "          google.colab.kernel.accessAllowed ? 'block' : 'none';\n",
              "\n",
              "        async function convertToInteractive(key) {\n",
              "          const element = document.querySelector('#df-7b4e6c28-538b-4bcd-b159-180ecd4de2c0');\n",
              "          const dataTable =\n",
              "            await google.colab.kernel.invokeFunction('convertToInteractive',\n",
              "                                                     [key], {});\n",
              "          if (!dataTable) return;\n",
              "\n",
              "          const docLinkHtml = 'Like what you see? Visit the ' +\n",
              "            '<a target=\"_blank\" href=https://colab.research.google.com/notebooks/data_table.ipynb>data table notebook</a>'\n",
              "            + ' to learn more about interactive tables.';\n",
              "          element.innerHTML = '';\n",
              "          dataTable['output_type'] = 'display_data';\n",
              "          await google.colab.output.renderOutput(dataTable, element);\n",
              "          const docLink = document.createElement('div');\n",
              "          docLink.innerHTML = docLinkHtml;\n",
              "          element.appendChild(docLink);\n",
              "        }\n",
              "      </script>\n",
              "    </div>\n",
              "  </div>\n",
              "  "
            ]
          },
          "metadata": {},
          "execution_count": 6
        }
      ],
      "source": [
        "# preview the last 2 rows\n",
        "data.tail(2)"
      ]
    },
    {
      "cell_type": "code",
      "execution_count": null,
      "metadata": {
        "colab": {
          "base_uri": "https://localhost:8080/"
        },
        "id": "AFerdrUAeMNu",
        "outputId": "e4d2a540-e00c-44d6-ecf8-445ad0a95e32"
      },
      "outputs": [
        {
          "output_type": "execute_result",
          "data": {
            "text/plain": [
              "['Sales_ID',\n",
              " 'name',\n",
              " 'year',\n",
              " 'selling_price',\n",
              " 'km_driven',\n",
              " 'Region',\n",
              " 'State or Province',\n",
              " 'City',\n",
              " 'fuel',\n",
              " 'seller_type',\n",
              " 'transmission',\n",
              " 'owner',\n",
              " 'mileage',\n",
              " 'engine',\n",
              " 'max_power',\n",
              " 'torque',\n",
              " 'seats',\n",
              " 'sold']"
            ]
          },
          "metadata": {},
          "execution_count": 7
        }
      ],
      "source": [
        "# checking the column names \n",
        "data.columns.to_list()"
      ]
    },
    {
      "cell_type": "code",
      "execution_count": null,
      "metadata": {
        "colab": {
          "base_uri": "https://localhost:8080/"
        },
        "id": "Z9Ff7bRKdKTb",
        "outputId": "06f0b998-072a-4725-ff76-1f5cdbdd8507"
      },
      "outputs": [
        {
          "output_type": "execute_result",
          "data": {
            "text/plain": [
              "Sales_ID               int64\n",
              "name                  object\n",
              "year                   int64\n",
              "selling_price          int64\n",
              "km_driven              int64\n",
              "Region                object\n",
              "State or Province     object\n",
              "City                  object\n",
              "fuel                  object\n",
              "seller_type           object\n",
              "transmission          object\n",
              "owner                 object\n",
              "mileage              float64\n",
              "engine                 int64\n",
              "max_power            float64\n",
              "torque                object\n",
              "seats                  int64\n",
              "sold                  object\n",
              "dtype: object"
            ]
          },
          "metadata": {},
          "execution_count": 8
        }
      ],
      "source": [
        "# checking the data types \n",
        "data.dtypes \n",
        "# the data is in integers, objects and floats "
      ]
    },
    {
      "cell_type": "markdown",
      "metadata": {
        "id": "3TKD5ExCV6xA"
      },
      "source": [
        "* The data is in integers, objects and floats "
      ]
    },
    {
      "cell_type": "code",
      "execution_count": null,
      "metadata": {
        "colab": {
          "base_uri": "https://localhost:8080/",
          "height": 301
        },
        "id": "saOKCmWDe8gV",
        "outputId": "5330a220-ff42-4e95-b0fe-149dccd71499"
      },
      "outputs": [
        {
          "output_type": "execute_result",
          "data": {
            "text/plain": [
              "          Sales_ID         year  selling_price     km_driven      mileage  \\\n",
              "count  7906.000000  7906.000000   7.906000e+03  7.906000e+03  7906.000000   \n",
              "mean   4070.106248  2013.983936   6.498137e+05  6.918866e+04    19.419861   \n",
              "std    2345.770159     3.863695   8.135827e+05  5.679230e+04     4.036263   \n",
              "min       1.000000  1994.000000   2.999900e+04  1.000000e+00     0.000000   \n",
              "25%    2037.250000  2012.000000   2.700000e+05  3.500000e+04    16.780000   \n",
              "50%    4076.500000  2015.000000   4.500000e+05  6.000000e+04    19.300000   \n",
              "75%    6102.000000  2017.000000   6.900000e+05  9.542500e+04    22.320000   \n",
              "max    8128.000000  2020.000000   1.000000e+07  2.360457e+06    42.000000   \n",
              "\n",
              "            engine    max_power        seats  \n",
              "count  7906.000000  7906.000000  7906.000000  \n",
              "mean   1458.708829    91.587374     5.416393  \n",
              "std     503.893057    35.747216     0.959208  \n",
              "min     624.000000    32.800000     2.000000  \n",
              "25%    1197.000000    68.050000     5.000000  \n",
              "50%    1248.000000    82.000000     5.000000  \n",
              "75%    1582.000000   102.000000     5.000000  \n",
              "max    3604.000000   400.000000    14.000000  "
            ],
            "text/html": [
              "\n",
              "  <div id=\"df-7c965f18-296d-418f-afc5-b9c4297cabab\">\n",
              "    <div class=\"colab-df-container\">\n",
              "      <div>\n",
              "<style scoped>\n",
              "    .dataframe tbody tr th:only-of-type {\n",
              "        vertical-align: middle;\n",
              "    }\n",
              "\n",
              "    .dataframe tbody tr th {\n",
              "        vertical-align: top;\n",
              "    }\n",
              "\n",
              "    .dataframe thead th {\n",
              "        text-align: right;\n",
              "    }\n",
              "</style>\n",
              "<table border=\"1\" class=\"dataframe\">\n",
              "  <thead>\n",
              "    <tr style=\"text-align: right;\">\n",
              "      <th></th>\n",
              "      <th>Sales_ID</th>\n",
              "      <th>year</th>\n",
              "      <th>selling_price</th>\n",
              "      <th>km_driven</th>\n",
              "      <th>mileage</th>\n",
              "      <th>engine</th>\n",
              "      <th>max_power</th>\n",
              "      <th>seats</th>\n",
              "    </tr>\n",
              "  </thead>\n",
              "  <tbody>\n",
              "    <tr>\n",
              "      <th>count</th>\n",
              "      <td>7906.000000</td>\n",
              "      <td>7906.000000</td>\n",
              "      <td>7.906000e+03</td>\n",
              "      <td>7.906000e+03</td>\n",
              "      <td>7906.000000</td>\n",
              "      <td>7906.000000</td>\n",
              "      <td>7906.000000</td>\n",
              "      <td>7906.000000</td>\n",
              "    </tr>\n",
              "    <tr>\n",
              "      <th>mean</th>\n",
              "      <td>4070.106248</td>\n",
              "      <td>2013.983936</td>\n",
              "      <td>6.498137e+05</td>\n",
              "      <td>6.918866e+04</td>\n",
              "      <td>19.419861</td>\n",
              "      <td>1458.708829</td>\n",
              "      <td>91.587374</td>\n",
              "      <td>5.416393</td>\n",
              "    </tr>\n",
              "    <tr>\n",
              "      <th>std</th>\n",
              "      <td>2345.770159</td>\n",
              "      <td>3.863695</td>\n",
              "      <td>8.135827e+05</td>\n",
              "      <td>5.679230e+04</td>\n",
              "      <td>4.036263</td>\n",
              "      <td>503.893057</td>\n",
              "      <td>35.747216</td>\n",
              "      <td>0.959208</td>\n",
              "    </tr>\n",
              "    <tr>\n",
              "      <th>min</th>\n",
              "      <td>1.000000</td>\n",
              "      <td>1994.000000</td>\n",
              "      <td>2.999900e+04</td>\n",
              "      <td>1.000000e+00</td>\n",
              "      <td>0.000000</td>\n",
              "      <td>624.000000</td>\n",
              "      <td>32.800000</td>\n",
              "      <td>2.000000</td>\n",
              "    </tr>\n",
              "    <tr>\n",
              "      <th>25%</th>\n",
              "      <td>2037.250000</td>\n",
              "      <td>2012.000000</td>\n",
              "      <td>2.700000e+05</td>\n",
              "      <td>3.500000e+04</td>\n",
              "      <td>16.780000</td>\n",
              "      <td>1197.000000</td>\n",
              "      <td>68.050000</td>\n",
              "      <td>5.000000</td>\n",
              "    </tr>\n",
              "    <tr>\n",
              "      <th>50%</th>\n",
              "      <td>4076.500000</td>\n",
              "      <td>2015.000000</td>\n",
              "      <td>4.500000e+05</td>\n",
              "      <td>6.000000e+04</td>\n",
              "      <td>19.300000</td>\n",
              "      <td>1248.000000</td>\n",
              "      <td>82.000000</td>\n",
              "      <td>5.000000</td>\n",
              "    </tr>\n",
              "    <tr>\n",
              "      <th>75%</th>\n",
              "      <td>6102.000000</td>\n",
              "      <td>2017.000000</td>\n",
              "      <td>6.900000e+05</td>\n",
              "      <td>9.542500e+04</td>\n",
              "      <td>22.320000</td>\n",
              "      <td>1582.000000</td>\n",
              "      <td>102.000000</td>\n",
              "      <td>5.000000</td>\n",
              "    </tr>\n",
              "    <tr>\n",
              "      <th>max</th>\n",
              "      <td>8128.000000</td>\n",
              "      <td>2020.000000</td>\n",
              "      <td>1.000000e+07</td>\n",
              "      <td>2.360457e+06</td>\n",
              "      <td>42.000000</td>\n",
              "      <td>3604.000000</td>\n",
              "      <td>400.000000</td>\n",
              "      <td>14.000000</td>\n",
              "    </tr>\n",
              "  </tbody>\n",
              "</table>\n",
              "</div>\n",
              "      <button class=\"colab-df-convert\" onclick=\"convertToInteractive('df-7c965f18-296d-418f-afc5-b9c4297cabab')\"\n",
              "              title=\"Convert this dataframe to an interactive table.\"\n",
              "              style=\"display:none;\">\n",
              "        \n",
              "  <svg xmlns=\"http://www.w3.org/2000/svg\" height=\"24px\"viewBox=\"0 0 24 24\"\n",
              "       width=\"24px\">\n",
              "    <path d=\"M0 0h24v24H0V0z\" fill=\"none\"/>\n",
              "    <path d=\"M18.56 5.44l.94 2.06.94-2.06 2.06-.94-2.06-.94-.94-2.06-.94 2.06-2.06.94zm-11 1L8.5 8.5l.94-2.06 2.06-.94-2.06-.94L8.5 2.5l-.94 2.06-2.06.94zm10 10l.94 2.06.94-2.06 2.06-.94-2.06-.94-.94-2.06-.94 2.06-2.06.94z\"/><path d=\"M17.41 7.96l-1.37-1.37c-.4-.4-.92-.59-1.43-.59-.52 0-1.04.2-1.43.59L10.3 9.45l-7.72 7.72c-.78.78-.78 2.05 0 2.83L4 21.41c.39.39.9.59 1.41.59.51 0 1.02-.2 1.41-.59l7.78-7.78 2.81-2.81c.8-.78.8-2.07 0-2.86zM5.41 20L4 18.59l7.72-7.72 1.47 1.35L5.41 20z\"/>\n",
              "  </svg>\n",
              "      </button>\n",
              "      \n",
              "  <style>\n",
              "    .colab-df-container {\n",
              "      display:flex;\n",
              "      flex-wrap:wrap;\n",
              "      gap: 12px;\n",
              "    }\n",
              "\n",
              "    .colab-df-convert {\n",
              "      background-color: #E8F0FE;\n",
              "      border: none;\n",
              "      border-radius: 50%;\n",
              "      cursor: pointer;\n",
              "      display: none;\n",
              "      fill: #1967D2;\n",
              "      height: 32px;\n",
              "      padding: 0 0 0 0;\n",
              "      width: 32px;\n",
              "    }\n",
              "\n",
              "    .colab-df-convert:hover {\n",
              "      background-color: #E2EBFA;\n",
              "      box-shadow: 0px 1px 2px rgba(60, 64, 67, 0.3), 0px 1px 3px 1px rgba(60, 64, 67, 0.15);\n",
              "      fill: #174EA6;\n",
              "    }\n",
              "\n",
              "    [theme=dark] .colab-df-convert {\n",
              "      background-color: #3B4455;\n",
              "      fill: #D2E3FC;\n",
              "    }\n",
              "\n",
              "    [theme=dark] .colab-df-convert:hover {\n",
              "      background-color: #434B5C;\n",
              "      box-shadow: 0px 1px 3px 1px rgba(0, 0, 0, 0.15);\n",
              "      filter: drop-shadow(0px 1px 2px rgba(0, 0, 0, 0.3));\n",
              "      fill: #FFFFFF;\n",
              "    }\n",
              "  </style>\n",
              "\n",
              "      <script>\n",
              "        const buttonEl =\n",
              "          document.querySelector('#df-7c965f18-296d-418f-afc5-b9c4297cabab button.colab-df-convert');\n",
              "        buttonEl.style.display =\n",
              "          google.colab.kernel.accessAllowed ? 'block' : 'none';\n",
              "\n",
              "        async function convertToInteractive(key) {\n",
              "          const element = document.querySelector('#df-7c965f18-296d-418f-afc5-b9c4297cabab');\n",
              "          const dataTable =\n",
              "            await google.colab.kernel.invokeFunction('convertToInteractive',\n",
              "                                                     [key], {});\n",
              "          if (!dataTable) return;\n",
              "\n",
              "          const docLinkHtml = 'Like what you see? Visit the ' +\n",
              "            '<a target=\"_blank\" href=https://colab.research.google.com/notebooks/data_table.ipynb>data table notebook</a>'\n",
              "            + ' to learn more about interactive tables.';\n",
              "          element.innerHTML = '';\n",
              "          dataTable['output_type'] = 'display_data';\n",
              "          await google.colab.output.renderOutput(dataTable, element);\n",
              "          const docLink = document.createElement('div');\n",
              "          docLink.innerHTML = docLinkHtml;\n",
              "          element.appendChild(docLink);\n",
              "        }\n",
              "      </script>\n",
              "    </div>\n",
              "  </div>\n",
              "  "
            ]
          },
          "metadata": {},
          "execution_count": 9
        }
      ],
      "source": [
        "# a brief description of the data \n",
        "data.describe()\n",
        "# exponentials\n",
        "# max_power and engine "
      ]
    },
    {
      "cell_type": "markdown",
      "metadata": {
        "id": "x575KoprgFMV"
      },
      "source": [
        "# **DATA CLEANING**"
      ]
    },
    {
      "cell_type": "markdown",
      "metadata": {
        "id": "5NkHX2LXWQxS"
      },
      "source": [
        "***Missing Values***"
      ]
    },
    {
      "cell_type": "code",
      "execution_count": null,
      "metadata": {
        "colab": {
          "base_uri": "https://localhost:8080/"
        },
        "id": "QUIgUo9vgL-0",
        "outputId": "3fecbf1f-fa06-499f-e335-62d0e87f1ab0"
      },
      "outputs": [
        {
          "output_type": "execute_result",
          "data": {
            "text/plain": [
              "Sales_ID             0\n",
              "name                 0\n",
              "year                 0\n",
              "selling_price        0\n",
              "km_driven            0\n",
              "Region               0\n",
              "State or Province    0\n",
              "City                 0\n",
              "fuel                 0\n",
              "seller_type          0\n",
              "transmission         0\n",
              "owner                0\n",
              "mileage              0\n",
              "engine               0\n",
              "max_power            0\n",
              "torque               0\n",
              "seats                0\n",
              "sold                 0\n",
              "dtype: int64"
            ]
          },
          "metadata": {},
          "execution_count": 10
        }
      ],
      "source": [
        "# checking for missing values\n",
        "data.isnull().sum()\n"
      ]
    },
    {
      "cell_type": "markdown",
      "metadata": {
        "id": "uIc4dNIYWW56"
      },
      "source": [
        "* There are no missing values in our dataset"
      ]
    },
    {
      "cell_type": "markdown",
      "metadata": {
        "id": "Te-Vr_PxaXZl"
      },
      "source": [
        "***Duplicates***"
      ]
    },
    {
      "cell_type": "code",
      "execution_count": null,
      "metadata": {
        "colab": {
          "base_uri": "https://localhost:8080/"
        },
        "id": "E819XJM0gIKs",
        "outputId": "79ad9545-c77d-4046-c3e2-b01e3df531b5"
      },
      "outputs": [
        {
          "output_type": "execute_result",
          "data": {
            "text/plain": [
              "0"
            ]
          },
          "metadata": {},
          "execution_count": 11
        }
      ],
      "source": [
        "# checking for duplicated values \n",
        "data.duplicated().sum()\n",
        "# there are no duplicated values "
      ]
    },
    {
      "cell_type": "markdown",
      "metadata": {
        "id": "7jX0yGVAWh1r"
      },
      "source": [
        "* There are no duplicates in our data"
      ]
    },
    {
      "cell_type": "markdown",
      "metadata": {
        "id": "DPyK0zLhXH34"
      },
      "source": [
        "***outliers***"
      ]
    },
    {
      "cell_type": "code",
      "execution_count": null,
      "metadata": {
        "colab": {
          "base_uri": "https://localhost:8080/"
        },
        "id": "dGqMZyKlg63S",
        "outputId": "6076bf62-7e39-4643-8473-ca98682e2315"
      },
      "outputs": [
        {
          "output_type": "execute_result",
          "data": {
            "text/plain": [
              "Sales_ID                0\n",
              "name                    0\n",
              "year                  165\n",
              "selling_price         598\n",
              "km_driven             194\n",
              "Region                  0\n",
              "State or Province       0\n",
              "City                    0\n",
              "fuel                    0\n",
              "seller_type             0\n",
              "transmission            0\n",
              "owner                   0\n",
              "mileage                24\n",
              "engine               1183\n",
              "max_power             564\n",
              "torque                  0\n",
              "seats                1652\n",
              "sold                    0\n",
              "dtype: int64"
            ]
          },
          "metadata": {},
          "execution_count": 12
        }
      ],
      "source": [
        "# checking for outliers \n",
        "q1 = data.quantile(0.25)\n",
        "q3 = data.quantile(0.75)\n",
        "iqr = q3 - q1\n",
        "outlier = data[((data < (q1 - 1.5*iqr))|(data > (q3 + 1.5*iqr)))]\n",
        "outlier.count()\n",
        "# although there are outliers in some of the columns, I choose not to do anything to them, since they all make perfect sense in the data."
      ]
    },
    {
      "cell_type": "code",
      "execution_count": null,
      "metadata": {
        "colab": {
          "base_uri": "https://localhost:8080/",
          "height": 442
        },
        "id": "cyed8xbtGRpM",
        "outputId": "105b92c7-a64a-48a7-d2ac-679df0ff900c"
      },
      "outputs": [
        {
          "output_type": "display_data",
          "data": {
            "text/plain": [
              "<Figure size 1080x504 with 6 Axes>"
            ],
            "image/png": "[encoded data removed]"
          },
          "metadata": {
            "needs_background": "light"
          }
        }
      ],
      "source": [
        "# visualising the outliers \n",
        "types = data[['year','selling_price','km_driven','mileage','engine','max_power','seats']].columns\n",
        "fig, axes = plt.subplots(nrows = 2, ncols = 3, figsize = (15,7))\n",
        "for col, ax in zip(types, axes.flatten()):\n",
        "  sns.boxplot(data[col], ax = ax);"
      ]
    },
    {
      "cell_type": "markdown",
      "metadata": {
        "id": "qTWSK3q_W1vB"
      },
      "source": [
        "There is a profusion of outliers in our dataset but we won't remove these outliers as most of which are likely due to natural variability in our data also we want to see how it will affect our model"
      ]
    },
    {
      "cell_type": "markdown",
      "metadata": {
        "id": "gNUxw4QHJ67X"
      },
      "source": [
        "# **EXPLORATORY DATA ANALYSIS**"
      ]
    },
    {
      "cell_type": "markdown",
      "metadata": {
        "id": "2kVXJg81J_rE"
      },
      "source": [
        "* **Univariate analysis** "
      ]
    },
    {
      "cell_type": "markdown",
      "metadata": {
        "id": "dGsB5PcWdvyE"
      },
      "source": [
        "***1.No of sold/unsold cars***"
      ]
    },
    {
      "cell_type": "code",
      "execution_count": null,
      "metadata": {
        "colab": {
          "base_uri": "https://localhost:8080/",
          "height": 293
        },
        "id": "DoqzQ2yBKtJV",
        "outputId": "2b3bb444-9c93-41e7-a9ff-341404f776c0"
      },
      "outputs": [
        {
          "output_type": "display_data",
          "data": {
            "text/plain": [
              "<Figure size 432x288 with 1 Axes>"
            ],
            "image/png": "[encoded data removed]"
          },
          "metadata": {
            "needs_background": "light"
          }
        }
      ],
      "source": [
        "# visulising if a vehicle is sold or not.\n",
        "\n",
        "data['sold'].value_counts().plot(kind = 'bar');\n",
        "plt.title('No of sold / unsold cars')\n",
        "plt.xlabel('sold or not')\n",
        "plt.ylabel('count')\n",
        "plt.show()\n",
        "\n",
        "# from this we can see that there is a large class imbalance.\n",
        "# under-sampling of the 'no sale' or over-sampling of the 'yes sale' will have to be done before modelling."
      ]
    },
    {
      "cell_type": "markdown",
      "metadata": {
        "id": "tBWHDbh7d5wX"
      },
      "source": [
        "* There are almost three times as much as unsold cars as compared to sold cars"
      ]
    },
    {
      "cell_type": "markdown",
      "metadata": {
        "id": "NMaPJwmogkZ9"
      },
      "source": [
        "***2.No of vehicle per feature***"
      ]
    },
    {
      "cell_type": "code",
      "execution_count": null,
      "metadata": {
        "colab": {
          "base_uri": "https://localhost:8080/"
        },
        "id": "Sgqi4wPneR1c",
        "outputId": "158fdc2d-6d2f-4406-cf38-351a93d61772"
      },
      "outputs": [
        {
          "output_type": "execute_result",
          "data": {
            "text/plain": [
              "Region                  4\n",
              "State or Province      49\n",
              "City                 1310\n",
              "fuel                    4\n",
              "seller_type             3\n",
              "transmission            2\n",
              "owner                   5\n",
              "seats                   9\n",
              "name                   31\n",
              "dtype: int64"
            ]
          },
          "metadata": {},
          "execution_count": 15
        }
      ],
      "source": [
        "data[['Region','State or Province','City','fuel','seller_type','transmission','owner','seats','name']].nunique()"
      ]
    },
    {
      "cell_type": "code",
      "execution_count": null,
      "metadata": {
        "colab": {
          "base_uri": "https://localhost:8080/",
          "height": 729
        },
        "id": "OAkTsxLA6UUy",
        "outputId": "d3b0ab6e-16d8-47d2-8014-2e69d5ae5719"
      },
      "outputs": [
        {
          "output_type": "display_data",
          "data": {
            "text/plain": [
              "<Figure size 1080x720 with 6 Axes>"
            ],
            "image/png": "[encoded data removed]"
          },
          "metadata": {
            "needs_background": "light"
          }
        }
      ],
      "source": [
        "fig,axes = plt.subplots(nrows=2, ncols=3, figsize=(15,10))\n",
        "cols = ['fuel', 'seller_type', 'transmission', 'owner', 'seats']\n",
        "titles =['fuel_type', 'seller_type', 'transmission', 'owner', 'seat_count']\n",
        "count=0\n",
        "ilist = [0,1,2,0,1]\n",
        "a=None\n",
        "for col in cols:\n",
        "   if count <=2:\n",
        "     a=0\n",
        "   else:\n",
        "     a=1\n",
        "   data[col].value_counts().plot.bar(ax=axes[a, ilist[count]])\n",
        "   axes[a, ilist[count]].set_title(titles[count])\n",
        "   count +=1\n",
        "fig.tight_layout();"
      ]
    },
    {
      "cell_type": "markdown",
      "metadata": {
        "id": "Q_WBist-mwP3"
      },
      "source": [
        "\n",
        "\n",
        "*  **Fuel_type**:    Diesel vehicles were more than other vehicles \n",
        "*  **Seller_type**:  Most vehicles were owned by individuals \n",
        "*  **Transmission**: Most vehicles were manual vehicles \n",
        "*  **Owner**:        Most vehicles were owned by first time owners\n",
        "*  **Seat_count**:   Most vehicles had 5 seats \n",
        "\n",
        "\n",
        "\n",
        "\n",
        "\n"
      ]
    },
    {
      "cell_type": "markdown",
      "metadata": {
        "id": "PkAdkPPkenGm"
      },
      "source": [
        "**3.Brand Popularity**"
      ]
    },
    {
      "cell_type": "code",
      "execution_count": null,
      "metadata": {
        "colab": {
          "base_uri": "https://localhost:8080/",
          "height": 407
        },
        "id": "wyMiTglFiLqq",
        "outputId": "cd764f12-a6ee-4f52-a5ff-8870e240e947"
      },
      "outputs": [
        {
          "output_type": "display_data",
          "data": {
            "text/plain": [
              "<Figure size 1080x360 with 1 Axes>"
            ],
            "image/png": "[encoded data removed]"
          },
          "metadata": {
            "needs_background": "light"
          }
        }
      ],
      "source": [
        "# The most popular car brand/name \n",
        "fig, axes = plt.subplots(figsize = (15,5))\n",
        "data['name'].value_counts().plot(kind = 'bar')\n",
        "plt.title('vehicle_brand count', size = 15)\n",
        "plt.xlabel('vehicle_brand', size = 12)\n",
        "plt.ylabel('count', size = 12);\n",
        "# The most popular car brand is maruti with the least popular being opel "
      ]
    },
    {
      "cell_type": "markdown",
      "metadata": {
        "id": "hfIJi23Xezu0"
      },
      "source": [
        "* The most popular car brand is maruti with the least popular being opel "
      ]
    },
    {
      "cell_type": "markdown",
      "metadata": {
        "id": "4sz0R8Cxe9sE"
      },
      "source": [
        "***4.Distribution***"
      ]
    },
    {
      "cell_type": "code",
      "execution_count": null,
      "metadata": {
        "colab": {
          "base_uri": "https://localhost:8080/",
          "height": 712
        },
        "id": "Chs4daYeksrK",
        "outputId": "aab60599-907b-4586-dbbe-814314489bb5"
      },
      "outputs": [
        {
          "output_type": "display_data",
          "data": {
            "text/plain": [
              "<Figure size 1440x720 with 6 Axes>"
            ],
            "image/png": "[encoded data removed]"
          },
          "metadata": {
            "needs_background": "light"
          }
        }
      ],
      "source": [
        "fig, axes = plt.subplots(2, 3, figsize = (20,10))\n",
        "\n",
        "data['year'].plot.hist(ax = axes[0,0])\n",
        "axes[0,0].set_title('year', size = 15)\n",
        "data['selling_price'].plot.hist(ax = axes[0,1])\n",
        "axes[0,1].set_title('selling_price', size = 15)\n",
        "data['km_driven'].plot.hist(ax = axes[0,2])\n",
        "axes[0,2].set_title('km_driven', size = 15)\n",
        "data['mileage'].plot.hist(ax = axes[1,0])\n",
        "axes[1,0].set_title('mileage', size = 15)\n",
        "data['engine'].plot.hist(ax = axes[1,1])\n",
        "axes[1,1].set_title('engine_capacity', size = 15)\n",
        "data['max_power'].plot.hist(ax = axes[1,2])\n",
        "axes[1,2].set_title('max_power', size =15)\n",
        "fig.tight_layout();\n",
        "\n",
        "# kilometers driven and selling price. # limit the x-scale"
      ]
    },
    {
      "cell_type": "markdown",
      "metadata": {
        "id": "T1Z7Qnkj1r2l"
      },
      "source": [
        "\n",
        "\n",
        "1.   **Year**: Most vehicles were from the year 2010 to 2020\n",
        "2.   **Mileage**: The mileage on most vehicles was between 15 and 25\n",
        "3.   **Engine capacity**: The engine capacity on most vehicles was between 1000cc to 1500cc\n",
        "4.   **max_power**:The maximum power on most vehicles was between 50 and 100 horsepower\n",
        "5.   **Selling Price**: The selling price of most of the vehicles was between 0 and 0.2 million \n",
        "6.   **Kilometers_driven**: Most cars had been driver for between 0 and 0.25 million kilometers \n",
        "\n"
      ]
    },
    {
      "cell_type": "markdown",
      "metadata": {
        "id": "8ZM0R8BrfdVv"
      },
      "source": [
        "***5.Count per region***"
      ]
    },
    {
      "cell_type": "code",
      "execution_count": null,
      "metadata": {
        "colab": {
          "base_uri": "https://localhost:8080/"
        },
        "id": "JT7Vhy6zqBC4",
        "outputId": "6ba53e8e-5012-43dd-e726-17f2670275fc"
      },
      "outputs": [
        {
          "output_type": "execute_result",
          "data": {
            "text/plain": [
              "Central    0.300531\n",
              "West       0.249937\n",
              "East       0.245257\n",
              "South      0.204275\n",
              "Name: Region, dtype: float64"
            ]
          },
          "metadata": {},
          "execution_count": 19
        }
      ],
      "source": [
        "data['Region'].value_counts(normalize = True)\n",
        "# central region had the highest count while the south region had the least count."
      ]
    },
    {
      "cell_type": "code",
      "execution_count": null,
      "metadata": {
        "colab": {
          "base_uri": "https://localhost:8080/",
          "height": 266
        },
        "id": "55z9IEFFuK3-",
        "outputId": "6ff4cf6e-214e-4a55-e49f-07e9d758b093"
      },
      "outputs": [
        {
          "output_type": "display_data",
          "data": {
            "text/plain": [
              "<Figure size 432x288 with 1 Axes>"
            ],
            "image/png": "[encoded data removed]"
          },
          "metadata": {}
        }
      ],
      "source": [
        "colors = ['gold', 'yellowgreen', 'lightcoral', 'lightskyblue']\n",
        "data['Region'].value_counts().plot.pie(explode = (0.1, 0.1, 0.1, 0.1), autopct = '%1.1f%%', shadow= True, startangle=140, colors = colors);\n",
        "plt.axis('equal')\n",
        "plt.title('Vehicle count per region', size = 15);\n"
      ]
    },
    {
      "cell_type": "code",
      "execution_count": null,
      "metadata": {
        "id": "N5biEuwQqYHT",
        "colab": {
          "base_uri": "https://localhost:8080/"
        },
        "outputId": "5fbec049-0407-4c0b-9c23-f24ebcd3c81a"
      },
      "outputs": [
        {
          "output_type": "stream",
          "name": "stdout",
          "text": [
            "California    901\n",
            "Texas         499\n",
            "New York      491\n",
            "Name: State or Province, dtype: int64\n",
            "**************\n",
            "Rhode Island    17\n",
            "Delaware        15\n",
            "Wyoming         12\n",
            "Name: State or Province, dtype: int64\n"
          ]
        }
      ],
      "source": [
        "print(data['State or Province'].value_counts().head(3))\n",
        "print('**************')\n",
        "print(data['State or Province'].value_counts().tail(3))\n",
        "\n",
        "# the state of California had the most number of vehicles dealt while the province of Wyoming had the least"
      ]
    },
    {
      "cell_type": "markdown",
      "metadata": {
        "id": "9103QwiFfq2I"
      },
      "source": [
        "* The state of California had the most number of vehicles dealt while the province of Wyoming had the least"
      ]
    },
    {
      "cell_type": "markdown",
      "metadata": {
        "id": "KnYOpezKsVZY"
      },
      "source": [
        "**2)Bivariate Analysis**"
      ]
    },
    {
      "cell_type": "markdown",
      "metadata": {
        "id": "-5T4cK0cg5FG"
      },
      "source": [
        "***1.Sale per feature***"
      ]
    },
    {
      "cell_type": "code",
      "execution_count": null,
      "metadata": {
        "id": "0QxVeXF1KSAJ",
        "colab": {
          "base_uri": "https://localhost:8080/",
          "height": 648
        },
        "outputId": "925ba84f-fe64-460c-f32b-e8518706eeca"
      },
      "outputs": [
        {
          "output_type": "display_data",
          "data": {
            "text/plain": [
              "<Figure size 1584x720 with 6 Axes>"
            ],
            "image/png": "[encoded data removed]"
          },
          "metadata": {
            "needs_background": "light"
          }
        }
      ],
      "source": [
        "fig, axes = plt.subplots(nrows = 2, ncols = 3, figsize =(22,10))\n",
        "\n",
        "sns.countplot(ax = axes[0,0], x = 'Region', hue = 'sold', data = data)\n",
        "axes[0,0].set_title('sales per region', size = 15)\n",
        "sns.countplot(ax = axes[0,1], x = 'fuel', hue = 'sold', data = data)\n",
        "axes[0,1].set_title('sales per fuel type', size = 15)\n",
        "sns.countplot(ax = axes[0,2], x ='seller_type', hue = 'sold', data = data)\n",
        "axes[0,2].set_title('sales per seller_type', size = 15)\n",
        "sns.countplot(ax = axes[1,0], x = 'transmission', hue = 'sold', data = data)\n",
        "axes[1,0].set_title('sales per transmission_type', size = 15)\n",
        "sns.countplot(ax = axes[1,1], x = 'owner', hue = 'sold', data = data)\n",
        "axes[1,1].set_title('sales per previous owner', size = 15)\n",
        "fig.tight_layout()"
      ]
    },
    {
      "cell_type": "markdown",
      "metadata": {
        "id": "R0U0XZc9Ok9H"
      },
      "source": [
        "\n",
        "\n",
        "*  From all the charts we can see that cars that were not sold were the most.\n",
        "*   The Eastern region had the highest count of cars both sold and not sold with cars not sold being the most \n",
        "*   Most vehicles were diesel vehicles and most of them were not sold \n",
        "*   Most vehicles were owned by individuals, also, most of them were not sold.\n",
        "*   Most vehicles were vehicles with manual transmission and most of them were also not sold.\n",
        "*  First time owners of vehicles were the most, but even with this, most of them did not sell their vehicles \n",
        "\n"
      ]
    },
    {
      "cell_type": "markdown",
      "metadata": {
        "id": "aujq0IFdheco"
      },
      "source": [
        "***2.Selling price against feature***"
      ]
    },
    {
      "cell_type": "code",
      "execution_count": null,
      "metadata": {
        "id": "BhptKZnCpR6D",
        "colab": {
          "base_uri": "https://localhost:8080/",
          "height": 729
        },
        "outputId": "231b620e-cb07-4621-e10d-2f1b7eb1cc8e"
      },
      "outputs": [
        {
          "output_type": "display_data",
          "data": {
            "text/plain": [
              "<Figure size 720x720 with 2 Axes>"
            ],
            "image/png": "[encoded data removed]"
          },
          "metadata": {
            "needs_background": "light"
          }
        }
      ],
      "source": [
        "fig, axes = plt.subplots(nrows = 2, figsize = (10,10))\n",
        "axes[0].scatter(x = data['km_driven'], y = data['selling_price'])\n",
        "axes[0].set_title('relationship - selling_price against km_driven',size = 17)\n",
        "axes[0].set_xlabel('km_driven(millions)',size = 12)\n",
        "axes[0].set_ylabel('selling price(millions)',size = 12)\n",
        "axes[1].scatter(x = data['mileage'], y = data['selling_price'])\n",
        "axes[1].set_title('relationship - selling price against mileage', size = 17)\n",
        "axes[1].set_xlabel('mileage', size = 12)\n",
        "axes[1].set_ylabel('selling_price(millions)', size = 12)\n",
        "plt.tight_layout();"
      ]
    },
    {
      "cell_type": "markdown",
      "source": [],
      "metadata": {
        "id": "hhVxze0nm7Fo"
      }
    },
    {
      "cell_type": "markdown",
      "metadata": {
        "id": "hOQXthHzu66H"
      },
      "source": [
        "\n",
        "\n",
        "*   Most vehicles have travelled for few kilometers and have a low price as well.\n",
        "*.   Most vehicles have a mileage of between 10-30 while the selling price is low as well \n",
        "\n"
      ]
    },
    {
      "cell_type": "markdown",
      "metadata": {
        "id": "reCWSVz3h4Ep"
      },
      "source": [
        "***3) Feature against Engine size***"
      ]
    },
    {
      "cell_type": "code",
      "execution_count": null,
      "metadata": {
        "colab": {
          "base_uri": "https://localhost:8080/",
          "height": 1000
        },
        "id": "Aevvum-Zka96",
        "outputId": "302541b1-0a64-459c-b825-8f29dd3b60c2"
      },
      "outputs": [
        {
          "output_type": "display_data",
          "data": {
            "text/plain": [
              "<Figure size 720x1440 with 3 Axes>"
            ],
            "image/png": "[encoded data removed]"
          },
          "metadata": {
            "needs_background": "light"
          }
        }
      ],
      "source": [
        "# Engine_size vs horse_power\n",
        "# Engine_size vs mileage\n",
        "fig, axes = plt.subplots(nrows = 3, figsize = (10,20))\n",
        "axes[0].scatter(x = data['engine'], y = data['max_power'])\n",
        "axes[0].set_title('relationship - max_power against engine_size',size = 17)\n",
        "axes[0].set_xlabel('engine_size (cc)',size = 12)\n",
        "axes[0].set_ylabel('horse_power',size = 12)\n",
        "axes[1].scatter(x = data['engine'], y = data['mileage'])\n",
        "axes[1].set_title('relationship - mileage against engine_size', size = 17)\n",
        "axes[1].set_xlabel('engine_size (cc)', size = 12)\n",
        "axes[1].set_ylabel('mileage', size = 12)\n",
        "axes[2].scatter(x = data['engine'], y = data['km_driven'])\n",
        "axes[2].set_title('relationship - distance driven (km) against engine_size', size = 17)\n",
        "axes[2].set_xlabel('engine_size (cc)', size = 12)\n",
        "axes[2].set_ylabel('km_driven(millions)', size = 12)\n",
        "plt.tight_layout();"
      ]
    },
    {
      "cell_type": "markdown",
      "metadata": {
        "id": "VsxhdBWx0Wtv"
      },
      "source": [
        "* The more the engine size the higher the power (horse_power) of the engine.(positive correlation)\n",
        "\n",
        "* The higher the engine size, the less the mileage (negative correlation)\n",
        "\n",
        "* All cars(different engine capacities) were driven for almost the same distance (very little correlation)"
      ]
    },
    {
      "cell_type": "markdown",
      "metadata": {
        "id": "O60Y7gX6iZhm"
      },
      "source": [
        "**Encoding**"
      ]
    },
    {
      "cell_type": "code",
      "execution_count": null,
      "metadata": {
        "colab": {
          "base_uri": "https://localhost:8080/",
          "height": 206
        },
        "id": "Bc6VVC0H0iO5",
        "outputId": "9a677f08-bd79-4e08-cbfc-a780018f7c03"
      },
      "outputs": [
        {
          "output_type": "execute_result",
          "data": {
            "text/plain": [
              "   Sales_ID  name  year  selling_price  km_driven  Region  State or Province  \\\n",
              "0         1    20  2014         450000     145500       1                  7   \n",
              "1         2    26  2014         370000     120000       1                 30   \n",
              "2         3    10  2006         158000     140000       0                 11   \n",
              "3         4    11  2010         225000     127000       0                 11   \n",
              "4         5    20  2007         130000     120000       1                 30   \n",
              "\n",
              "   City  fuel  seller_type  transmission  owner  mileage  engine  max_power  \\\n",
              "0  1223     1            1             1      0    23.40    1248      74.00   \n",
              "1   786     1            1             1      2    21.14    1498     103.52   \n",
              "2   193     3            1             1      4    17.70    1497      78.00   \n",
              "3   193     1            1             1      0    23.00    1396      90.00   \n",
              "4   786     3            1             1      0    16.10    1298      88.20   \n",
              "\n",
              "   torque  seats  sold  \n",
              "0     178      5     1  \n",
              "1     260      5     1  \n",
              "2      66      5     1  \n",
              "3     224      5     1  \n",
              "4      21      5     1  "
            ],
            "text/html": [
              "\n",
              "  <div id=\"df-823ee676-82ea-4562-9608-10cbebb9a159\">\n",
              "    <div class=\"colab-df-container\">\n",
              "      <div>\n",
              "<style scoped>\n",
              "    .dataframe tbody tr th:only-of-type {\n",
              "        vertical-align: middle;\n",
              "    }\n",
              "\n",
              "    .dataframe tbody tr th {\n",
              "        vertical-align: top;\n",
              "    }\n",
              "\n",
              "    .dataframe thead th {\n",
              "        text-align: right;\n",
              "    }\n",
              "</style>\n",
              "<table border=\"1\" class=\"dataframe\">\n",
              "  <thead>\n",
              "    <tr style=\"text-align: right;\">\n",
              "      <th></th>\n",
              "      <th>Sales_ID</th>\n",
              "      <th>name</th>\n",
              "      <th>year</th>\n",
              "      <th>selling_price</th>\n",
              "      <th>km_driven</th>\n",
              "      <th>Region</th>\n",
              "      <th>State or Province</th>\n",
              "      <th>City</th>\n",
              "      <th>fuel</th>\n",
              "      <th>seller_type</th>\n",
              "      <th>transmission</th>\n",
              "      <th>owner</th>\n",
              "      <th>mileage</th>\n",
              "      <th>engine</th>\n",
              "      <th>max_power</th>\n",
              "      <th>torque</th>\n",
              "      <th>seats</th>\n",
              "      <th>sold</th>\n",
              "    </tr>\n",
              "  </thead>\n",
              "  <tbody>\n",
              "    <tr>\n",
              "      <th>0</th>\n",
              "      <td>1</td>\n",
              "      <td>20</td>\n",
              "      <td>2014</td>\n",
              "      <td>450000</td>\n",
              "      <td>145500</td>\n",
              "      <td>1</td>\n",
              "      <td>7</td>\n",
              "      <td>1223</td>\n",
              "      <td>1</td>\n",
              "      <td>1</td>\n",
              "      <td>1</td>\n",
              "      <td>0</td>\n",
              "      <td>23.40</td>\n",
              "      <td>1248</td>\n",
              "      <td>74.00</td>\n",
              "      <td>178</td>\n",
              "      <td>5</td>\n",
              "      <td>1</td>\n",
              "    </tr>\n",
              "    <tr>\n",
              "      <th>1</th>\n",
              "      <td>2</td>\n",
              "      <td>26</td>\n",
              "      <td>2014</td>\n",
              "      <td>370000</td>\n",
              "      <td>120000</td>\n",
              "      <td>1</td>\n",
              "      <td>30</td>\n",
              "      <td>786</td>\n",
              "      <td>1</td>\n",
              "      <td>1</td>\n",
              "      <td>1</td>\n",
              "      <td>2</td>\n",
              "      <td>21.14</td>\n",
              "      <td>1498</td>\n",
              "      <td>103.52</td>\n",
              "      <td>260</td>\n",
              "      <td>5</td>\n",
              "      <td>1</td>\n",
              "    </tr>\n",
              "    <tr>\n",
              "      <th>2</th>\n",
              "      <td>3</td>\n",
              "      <td>10</td>\n",
              "      <td>2006</td>\n",
              "      <td>158000</td>\n",
              "      <td>140000</td>\n",
              "      <td>0</td>\n",
              "      <td>11</td>\n",
              "      <td>193</td>\n",
              "      <td>3</td>\n",
              "      <td>1</td>\n",
              "      <td>1</td>\n",
              "      <td>4</td>\n",
              "      <td>17.70</td>\n",
              "      <td>1497</td>\n",
              "      <td>78.00</td>\n",
              "      <td>66</td>\n",
              "      <td>5</td>\n",
              "      <td>1</td>\n",
              "    </tr>\n",
              "    <tr>\n",
              "      <th>3</th>\n",
              "      <td>4</td>\n",
              "      <td>11</td>\n",
              "      <td>2010</td>\n",
              "      <td>225000</td>\n",
              "      <td>127000</td>\n",
              "      <td>0</td>\n",
              "      <td>11</td>\n",
              "      <td>193</td>\n",
              "      <td>1</td>\n",
              "      <td>1</td>\n",
              "      <td>1</td>\n",
              "      <td>0</td>\n",
              "      <td>23.00</td>\n",
              "      <td>1396</td>\n",
              "      <td>90.00</td>\n",
              "      <td>224</td>\n",
              "      <td>5</td>\n",
              "      <td>1</td>\n",
              "    </tr>\n",
              "    <tr>\n",
              "      <th>4</th>\n",
              "      <td>5</td>\n",
              "      <td>20</td>\n",
              "      <td>2007</td>\n",
              "      <td>130000</td>\n",
              "      <td>120000</td>\n",
              "      <td>1</td>\n",
              "      <td>30</td>\n",
              "      <td>786</td>\n",
              "      <td>3</td>\n",
              "      <td>1</td>\n",
              "      <td>1</td>\n",
              "      <td>0</td>\n",
              "      <td>16.10</td>\n",
              "      <td>1298</td>\n",
              "      <td>88.20</td>\n",
              "      <td>21</td>\n",
              "      <td>5</td>\n",
              "      <td>1</td>\n",
              "    </tr>\n",
              "  </tbody>\n",
              "</table>\n",
              "</div>\n",
              "      <button class=\"colab-df-convert\" onclick=\"convertToInteractive('df-823ee676-82ea-4562-9608-10cbebb9a159')\"\n",
              "              title=\"Convert this dataframe to an interactive table.\"\n",
              "              style=\"display:none;\">\n",
              "        \n",
              "  <svg xmlns=\"http://www.w3.org/2000/svg\" height=\"24px\"viewBox=\"0 0 24 24\"\n",
              "       width=\"24px\">\n",
              "    <path d=\"M0 0h24v24H0V0z\" fill=\"none\"/>\n",
              "    <path d=\"M18.56 5.44l.94 2.06.94-2.06 2.06-.94-2.06-.94-.94-2.06-.94 2.06-2.06.94zm-11 1L8.5 8.5l.94-2.06 2.06-.94-2.06-.94L8.5 2.5l-.94 2.06-2.06.94zm10 10l.94 2.06.94-2.06 2.06-.94-2.06-.94-.94-2.06-.94 2.06-2.06.94z\"/><path d=\"M17.41 7.96l-1.37-1.37c-.4-.4-.92-.59-1.43-.59-.52 0-1.04.2-1.43.59L10.3 9.45l-7.72 7.72c-.78.78-.78 2.05 0 2.83L4 21.41c.39.39.9.59 1.41.59.51 0 1.02-.2 1.41-.59l7.78-7.78 2.81-2.81c.8-.78.8-2.07 0-2.86zM5.41 20L4 18.59l7.72-7.72 1.47 1.35L5.41 20z\"/>\n",
              "  </svg>\n",
              "      </button>\n",
              "      \n",
              "  <style>\n",
              "    .colab-df-container {\n",
              "      display:flex;\n",
              "      flex-wrap:wrap;\n",
              "      gap: 12px;\n",
              "    }\n",
              "\n",
              "    .colab-df-convert {\n",
              "      background-color: #E8F0FE;\n",
              "      border: none;\n",
              "      border-radius: 50%;\n",
              "      cursor: pointer;\n",
              "      display: none;\n",
              "      fill: #1967D2;\n",
              "      height: 32px;\n",
              "      padding: 0 0 0 0;\n",
              "      width: 32px;\n",
              "    }\n",
              "\n",
              "    .colab-df-convert:hover {\n",
              "      background-color: #E2EBFA;\n",
              "      box-shadow: 0px 1px 2px rgba(60, 64, 67, 0.3), 0px 1px 3px 1px rgba(60, 64, 67, 0.15);\n",
              "      fill: #174EA6;\n",
              "    }\n",
              "\n",
              "    [theme=dark] .colab-df-convert {\n",
              "      background-color: #3B4455;\n",
              "      fill: #D2E3FC;\n",
              "    }\n",
              "\n",
              "    [theme=dark] .colab-df-convert:hover {\n",
              "      background-color: #434B5C;\n",
              "      box-shadow: 0px 1px 3px 1px rgba(0, 0, 0, 0.15);\n",
              "      filter: drop-shadow(0px 1px 2px rgba(0, 0, 0, 0.3));\n",
              "      fill: #FFFFFF;\n",
              "    }\n",
              "  </style>\n",
              "\n",
              "      <script>\n",
              "        const buttonEl =\n",
              "          document.querySelector('#df-823ee676-82ea-4562-9608-10cbebb9a159 button.colab-df-convert');\n",
              "        buttonEl.style.display =\n",
              "          google.colab.kernel.accessAllowed ? 'block' : 'none';\n",
              "\n",
              "        async function convertToInteractive(key) {\n",
              "          const element = document.querySelector('#df-823ee676-82ea-4562-9608-10cbebb9a159');\n",
              "          const dataTable =\n",
              "            await google.colab.kernel.invokeFunction('convertToInteractive',\n",
              "                                                     [key], {});\n",
              "          if (!dataTable) return;\n",
              "\n",
              "          const docLinkHtml = 'Like what you see? Visit the ' +\n",
              "            '<a target=\"_blank\" href=https://colab.research.google.com/notebooks/data_table.ipynb>data table notebook</a>'\n",
              "            + ' to learn more about interactive tables.';\n",
              "          element.innerHTML = '';\n",
              "          dataTable['output_type'] = 'display_data';\n",
              "          await google.colab.output.renderOutput(dataTable, element);\n",
              "          const docLink = document.createElement('div');\n",
              "          docLink.innerHTML = docLinkHtml;\n",
              "          element.appendChild(docLink);\n",
              "        }\n",
              "      </script>\n",
              "    </div>\n",
              "  </div>\n",
              "  "
            ]
          },
          "metadata": {},
          "execution_count": 25
        }
      ],
      "source": [
        "# label encoding the columns with object data type.\n",
        "\n",
        "from sklearn.preprocessing import LabelEncoder\n",
        "cols = data.select_dtypes('object').columns\n",
        "le = LabelEncoder()\n",
        "data[cols] = data[cols].apply(le.fit_transform)\n",
        "data.head()"
      ]
    },
    {
      "cell_type": "code",
      "execution_count": null,
      "metadata": {
        "id": "xn8ht5OnKTOH"
      },
      "outputs": [],
      "source": [
        "# dropping the torque and Sales_ID column since this will not be used in the analysis/modelling.\n",
        "data = data.drop(['torque','Sales_ID'], axis = 1)"
      ]
    },
    {
      "cell_type": "code",
      "execution_count": null,
      "metadata": {
        "colab": {
          "base_uri": "https://localhost:8080/",
          "height": 206
        },
        "id": "6O5DycFpM2a3",
        "outputId": "34e0fec8-173e-430c-bf49-555fc9f1da23"
      },
      "outputs": [
        {
          "output_type": "execute_result",
          "data": {
            "text/plain": [
              "   name  year  selling_price  km_driven  Region  State or Province  City  \\\n",
              "0    20  2014         450000     145500       1                  7  1223   \n",
              "1    26  2014         370000     120000       1                 30   786   \n",
              "2    10  2006         158000     140000       0                 11   193   \n",
              "3    11  2010         225000     127000       0                 11   193   \n",
              "4    20  2007         130000     120000       1                 30   786   \n",
              "\n",
              "   fuel  seller_type  transmission  owner  mileage  engine  max_power  seats  \\\n",
              "0     1            1             1      0    23.40    1248      74.00      5   \n",
              "1     1            1             1      2    21.14    1498     103.52      5   \n",
              "2     3            1             1      4    17.70    1497      78.00      5   \n",
              "3     1            1             1      0    23.00    1396      90.00      5   \n",
              "4     3            1             1      0    16.10    1298      88.20      5   \n",
              "\n",
              "   sold  \n",
              "0     1  \n",
              "1     1  \n",
              "2     1  \n",
              "3     1  \n",
              "4     1  "
            ],
            "text/html": [
              "\n",
              "  <div id=\"df-1e031b5c-c76e-4f68-a014-f0ac13e33b5c\">\n",
              "    <div class=\"colab-df-container\">\n",
              "      <div>\n",
              "<style scoped>\n",
              "    .dataframe tbody tr th:only-of-type {\n",
              "        vertical-align: middle;\n",
              "    }\n",
              "\n",
              "    .dataframe tbody tr th {\n",
              "        vertical-align: top;\n",
              "    }\n",
              "\n",
              "    .dataframe thead th {\n",
              "        text-align: right;\n",
              "    }\n",
              "</style>\n",
              "<table border=\"1\" class=\"dataframe\">\n",
              "  <thead>\n",
              "    <tr style=\"text-align: right;\">\n",
              "      <th></th>\n",
              "      <th>name</th>\n",
              "      <th>year</th>\n",
              "      <th>selling_price</th>\n",
              "      <th>km_driven</th>\n",
              "      <th>Region</th>\n",
              "      <th>State or Province</th>\n",
              "      <th>City</th>\n",
              "      <th>fuel</th>\n",
              "      <th>seller_type</th>\n",
              "      <th>transmission</th>\n",
              "      <th>owner</th>\n",
              "      <th>mileage</th>\n",
              "      <th>engine</th>\n",
              "      <th>max_power</th>\n",
              "      <th>seats</th>\n",
              "      <th>sold</th>\n",
              "    </tr>\n",
              "  </thead>\n",
              "  <tbody>\n",
              "    <tr>\n",
              "      <th>0</th>\n",
              "      <td>20</td>\n",
              "      <td>2014</td>\n",
              "      <td>450000</td>\n",
              "      <td>145500</td>\n",
              "      <td>1</td>\n",
              "      <td>7</td>\n",
              "      <td>1223</td>\n",
              "      <td>1</td>\n",
              "      <td>1</td>\n",
              "      <td>1</td>\n",
              "      <td>0</td>\n",
              "      <td>23.40</td>\n",
              "      <td>1248</td>\n",
              "      <td>74.00</td>\n",
              "      <td>5</td>\n",
              "      <td>1</td>\n",
              "    </tr>\n",
              "    <tr>\n",
              "      <th>1</th>\n",
              "      <td>26</td>\n",
              "      <td>2014</td>\n",
              "      <td>370000</td>\n",
              "      <td>120000</td>\n",
              "      <td>1</td>\n",
              "      <td>30</td>\n",
              "      <td>786</td>\n",
              "      <td>1</td>\n",
              "      <td>1</td>\n",
              "      <td>1</td>\n",
              "      <td>2</td>\n",
              "      <td>21.14</td>\n",
              "      <td>1498</td>\n",
              "      <td>103.52</td>\n",
              "      <td>5</td>\n",
              "      <td>1</td>\n",
              "    </tr>\n",
              "    <tr>\n",
              "      <th>2</th>\n",
              "      <td>10</td>\n",
              "      <td>2006</td>\n",
              "      <td>158000</td>\n",
              "      <td>140000</td>\n",
              "      <td>0</td>\n",
              "      <td>11</td>\n",
              "      <td>193</td>\n",
              "      <td>3</td>\n",
              "      <td>1</td>\n",
              "      <td>1</td>\n",
              "      <td>4</td>\n",
              "      <td>17.70</td>\n",
              "      <td>1497</td>\n",
              "      <td>78.00</td>\n",
              "      <td>5</td>\n",
              "      <td>1</td>\n",
              "    </tr>\n",
              "    <tr>\n",
              "      <th>3</th>\n",
              "      <td>11</td>\n",
              "      <td>2010</td>\n",
              "      <td>225000</td>\n",
              "      <td>127000</td>\n",
              "      <td>0</td>\n",
              "      <td>11</td>\n",
              "      <td>193</td>\n",
              "      <td>1</td>\n",
              "      <td>1</td>\n",
              "      <td>1</td>\n",
              "      <td>0</td>\n",
              "      <td>23.00</td>\n",
              "      <td>1396</td>\n",
              "      <td>90.00</td>\n",
              "      <td>5</td>\n",
              "      <td>1</td>\n",
              "    </tr>\n",
              "    <tr>\n",
              "      <th>4</th>\n",
              "      <td>20</td>\n",
              "      <td>2007</td>\n",
              "      <td>130000</td>\n",
              "      <td>120000</td>\n",
              "      <td>1</td>\n",
              "      <td>30</td>\n",
              "      <td>786</td>\n",
              "      <td>3</td>\n",
              "      <td>1</td>\n",
              "      <td>1</td>\n",
              "      <td>0</td>\n",
              "      <td>16.10</td>\n",
              "      <td>1298</td>\n",
              "      <td>88.20</td>\n",
              "      <td>5</td>\n",
              "      <td>1</td>\n",
              "    </tr>\n",
              "  </tbody>\n",
              "</table>\n",
              "</div>\n",
              "      <button class=\"colab-df-convert\" onclick=\"convertToInteractive('df-1e031b5c-c76e-4f68-a014-f0ac13e33b5c')\"\n",
              "              title=\"Convert this dataframe to an interactive table.\"\n",
              "              style=\"display:none;\">\n",
              "        \n",
              "  <svg xmlns=\"http://www.w3.org/2000/svg\" height=\"24px\"viewBox=\"0 0 24 24\"\n",
              "       width=\"24px\">\n",
              "    <path d=\"M0 0h24v24H0V0z\" fill=\"none\"/>\n",
              "    <path d=\"M18.56 5.44l.94 2.06.94-2.06 2.06-.94-2.06-.94-.94-2.06-.94 2.06-2.06.94zm-11 1L8.5 8.5l.94-2.06 2.06-.94-2.06-.94L8.5 2.5l-.94 2.06-2.06.94zm10 10l.94 2.06.94-2.06 2.06-.94-2.06-.94-.94-2.06-.94 2.06-2.06.94z\"/><path d=\"M17.41 7.96l-1.37-1.37c-.4-.4-.92-.59-1.43-.59-.52 0-1.04.2-1.43.59L10.3 9.45l-7.72 7.72c-.78.78-.78 2.05 0 2.83L4 21.41c.39.39.9.59 1.41.59.51 0 1.02-.2 1.41-.59l7.78-7.78 2.81-2.81c.8-.78.8-2.07 0-2.86zM5.41 20L4 18.59l7.72-7.72 1.47 1.35L5.41 20z\"/>\n",
              "  </svg>\n",
              "      </button>\n",
              "      \n",
              "  <style>\n",
              "    .colab-df-container {\n",
              "      display:flex;\n",
              "      flex-wrap:wrap;\n",
              "      gap: 12px;\n",
              "    }\n",
              "\n",
              "    .colab-df-convert {\n",
              "      background-color: #E8F0FE;\n",
              "      border: none;\n",
              "      border-radius: 50%;\n",
              "      cursor: pointer;\n",
              "      display: none;\n",
              "      fill: #1967D2;\n",
              "      height: 32px;\n",
              "      padding: 0 0 0 0;\n",
              "      width: 32px;\n",
              "    }\n",
              "\n",
              "    .colab-df-convert:hover {\n",
              "      background-color: #E2EBFA;\n",
              "      box-shadow: 0px 1px 2px rgba(60, 64, 67, 0.3), 0px 1px 3px 1px rgba(60, 64, 67, 0.15);\n",
              "      fill: #174EA6;\n",
              "    }\n",
              "\n",
              "    [theme=dark] .colab-df-convert {\n",
              "      background-color: #3B4455;\n",
              "      fill: #D2E3FC;\n",
              "    }\n",
              "\n",
              "    [theme=dark] .colab-df-convert:hover {\n",
              "      background-color: #434B5C;\n",
              "      box-shadow: 0px 1px 3px 1px rgba(0, 0, 0, 0.15);\n",
              "      filter: drop-shadow(0px 1px 2px rgba(0, 0, 0, 0.3));\n",
              "      fill: #FFFFFF;\n",
              "    }\n",
              "  </style>\n",
              "\n",
              "      <script>\n",
              "        const buttonEl =\n",
              "          document.querySelector('#df-1e031b5c-c76e-4f68-a014-f0ac13e33b5c button.colab-df-convert');\n",
              "        buttonEl.style.display =\n",
              "          google.colab.kernel.accessAllowed ? 'block' : 'none';\n",
              "\n",
              "        async function convertToInteractive(key) {\n",
              "          const element = document.querySelector('#df-1e031b5c-c76e-4f68-a014-f0ac13e33b5c');\n",
              "          const dataTable =\n",
              "            await google.colab.kernel.invokeFunction('convertToInteractive',\n",
              "                                                     [key], {});\n",
              "          if (!dataTable) return;\n",
              "\n",
              "          const docLinkHtml = 'Like what you see? Visit the ' +\n",
              "            '<a target=\"_blank\" href=https://colab.research.google.com/notebooks/data_table.ipynb>data table notebook</a>'\n",
              "            + ' to learn more about interactive tables.';\n",
              "          element.innerHTML = '';\n",
              "          dataTable['output_type'] = 'display_data';\n",
              "          await google.colab.output.renderOutput(dataTable, element);\n",
              "          const docLink = document.createElement('div');\n",
              "          docLink.innerHTML = docLinkHtml;\n",
              "          element.appendChild(docLink);\n",
              "        }\n",
              "      </script>\n",
              "    </div>\n",
              "  </div>\n",
              "  "
            ]
          },
          "metadata": {},
          "execution_count": 27
        }
      ],
      "source": [
        "# Viewing the new data\n",
        "data.head(5)"
      ]
    },
    {
      "cell_type": "markdown",
      "metadata": {
        "id": "vMKylH-miw4S"
      },
      "source": [
        "***4)Correlation***"
      ]
    },
    {
      "cell_type": "code",
      "execution_count": null,
      "metadata": {
        "colab": {
          "base_uri": "https://localhost:8080/",
          "height": 779
        },
        "id": "lQDjYRf-NRZf",
        "outputId": "72687a17-9cbe-4d48-f515-257e97e1bf56"
      },
      "outputs": [
        {
          "output_type": "display_data",
          "data": {
            "text/plain": [
              "<Figure size 1224x864 with 2 Axes>"
            ],
            "image/png": "[encoded data removed]"
          },
          "metadata": {
            "needs_background": "light"
          }
        }
      ],
      "source": [
        "# correlation of the columns\n",
        "# heatmap\n",
        "fig, axes = plt.subplots(figsize = (17,12))\n",
        "sns.heatmap(data.corr(), annot = True);"
      ]
    },
    {
      "cell_type": "markdown",
      "metadata": {
        "id": "240vbL5cPt22"
      },
      "source": [
        "\n",
        "\n",
        "*  we can see that the price of the vehicle is highly correlated to the engine power. However, I will not be making changes on these columns since they are important in the modelling stages.\n"
      ]
    },
    {
      "cell_type": "code",
      "execution_count": null,
      "metadata": {
        "colab": {
          "base_uri": "https://localhost:8080/",
          "height": 385
        },
        "id": "D8LULVkRgvlL",
        "outputId": "c33d71c1-5842-4861-a2bf-39c083149619"
      },
      "outputs": [
        {
          "output_type": "display_data",
          "data": {
            "text/plain": [
              "<Figure size 360x360 with 1 Axes>"
            ],
            "image/png": "[encoded data removed]"
          },
          "metadata": {
            "needs_background": "light"
          }
        }
      ],
      "source": [
        "# Relationship between engine size and seats. (has a high correlation in the heatmap)\n",
        "p = sns.catplot(x='seats', y='engine', data=data);\n",
        "p.set(xlabel = \"Seats\", ylabel = \"Engine size (cc)\", title = 'Seats vs Engine size');\n",
        "# There is no clear relationship between the number of seats and the engine size.\n",
        "# However, cars with 5 seats were the most and thus there was a wide range in the engine capacity which has contributed to the high correlation."
      ]
    },
    {
      "cell_type": "markdown",
      "metadata": {
        "id": "WfsSI7cckIdY"
      },
      "source": [
        "* There is no clear relationship between the number of seats and the engine size.\n",
        "However, cars with 5 seats were the most and thus there was a wide range in the engine capacity which has contributed to the high correlation."
      ]
    },
    {
      "cell_type": "markdown",
      "metadata": {
        "id": "oYXYX3aI422L"
      },
      "source": [
        "**3.Multivariate analysis**"
      ]
    },
    {
      "cell_type": "markdown",
      "metadata": {
        "id": "-qZKbk0bk1yN"
      },
      "source": [
        "**LDA**"
      ]
    },
    {
      "cell_type": "code",
      "source": [
        "x = data.drop(columns =['sold'])\n",
        "y = data['sold']"
      ],
      "metadata": {
        "id": "JshyxKRYQaJX"
      },
      "execution_count": null,
      "outputs": []
    },
    {
      "cell_type": "code",
      "source": [
        "from sklearn.discriminant_analysis import LinearDiscriminantAnalysis as LDA\n",
        "lda = LDA()\n",
        "lda_ = lda.fit(x, y)\n",
        "    \n",
        "def sign(x):\n",
        "  if x > 0:\n",
        "    return 'positive'\n",
        "  else:\n",
        "    return 'negative'\n",
        "\n",
        "abs_coeff = pd.DataFrame(pd.DataFrame(index=x.columns.values, data=lda_.coef_[0])[0].apply( lambda x: abs(x)))\n",
        "abs_coeff['sign'] = pd.DataFrame(index=x.columns.values, data=lda_.coef_[0])[0].apply( lambda x: sign(x))\n",
        "abs_coeff.sort_values(by=0, ascending = False)"
      ],
      "metadata": {
        "colab": {
          "base_uri": "https://localhost:8080/",
          "height": 520
        },
        "id": "2xiBwk_FbN42",
        "outputId": "dfe11219-6047-4ab0-e8ed-a74873084f1a"
      },
      "execution_count": null,
      "outputs": [
        {
          "output_type": "execute_result",
          "data": {
            "text/plain": [
              "                              0      sign\n",
              "fuel               8.503166e-02  positive\n",
              "seller_type        5.955559e-02  positive\n",
              "transmission       4.482188e-02  negative\n",
              "Region             1.396505e-02  negative\n",
              "seats              1.118210e-02  positive\n",
              "mileage            9.284219e-03  negative\n",
              "name               3.203756e-03  positive\n",
              "year               1.915660e-03  positive\n",
              "max_power          1.692673e-03  negative\n",
              "State or Province  1.283549e-03  negative\n",
              "owner              7.484663e-04  positive\n",
              "City               2.927158e-04  negative\n",
              "engine             8.199844e-05  positive\n",
              "km_driven          1.963895e-07  positive\n",
              "selling_price      9.712103e-08  positive"
            ],
            "text/html": [
              "\n",
              "  <div id=\"df-86a0126d-aadf-4122-adb5-50a2d939b716\">\n",
              "    <div class=\"colab-df-container\">\n",
              "      <div>\n",
              "<style scoped>\n",
              "    .dataframe tbody tr th:only-of-type {\n",
              "        vertical-align: middle;\n",
              "    }\n",
              "\n",
              "    .dataframe tbody tr th {\n",
              "        vertical-align: top;\n",
              "    }\n",
              "\n",
              "    .dataframe thead th {\n",
              "        text-align: right;\n",
              "    }\n",
              "</style>\n",
              "<table border=\"1\" class=\"dataframe\">\n",
              "  <thead>\n",
              "    <tr style=\"text-align: right;\">\n",
              "      <th></th>\n",
              "      <th>0</th>\n",
              "      <th>sign</th>\n",
              "    </tr>\n",
              "  </thead>\n",
              "  <tbody>\n",
              "    <tr>\n",
              "      <th>fuel</th>\n",
              "      <td>8.503166e-02</td>\n",
              "      <td>positive</td>\n",
              "    </tr>\n",
              "    <tr>\n",
              "      <th>seller_type</th>\n",
              "      <td>5.955559e-02</td>\n",
              "      <td>positive</td>\n",
              "    </tr>\n",
              "    <tr>\n",
              "      <th>transmission</th>\n",
              "      <td>4.482188e-02</td>\n",
              "      <td>negative</td>\n",
              "    </tr>\n",
              "    <tr>\n",
              "      <th>Region</th>\n",
              "      <td>1.396505e-02</td>\n",
              "      <td>negative</td>\n",
              "    </tr>\n",
              "    <tr>\n",
              "      <th>seats</th>\n",
              "      <td>1.118210e-02</td>\n",
              "      <td>positive</td>\n",
              "    </tr>\n",
              "    <tr>\n",
              "      <th>mileage</th>\n",
              "      <td>9.284219e-03</td>\n",
              "      <td>negative</td>\n",
              "    </tr>\n",
              "    <tr>\n",
              "      <th>name</th>\n",
              "      <td>3.203756e-03</td>\n",
              "      <td>positive</td>\n",
              "    </tr>\n",
              "    <tr>\n",
              "      <th>year</th>\n",
              "      <td>1.915660e-03</td>\n",
              "      <td>positive</td>\n",
              "    </tr>\n",
              "    <tr>\n",
              "      <th>max_power</th>\n",
              "      <td>1.692673e-03</td>\n",
              "      <td>negative</td>\n",
              "    </tr>\n",
              "    <tr>\n",
              "      <th>State or Province</th>\n",
              "      <td>1.283549e-03</td>\n",
              "      <td>negative</td>\n",
              "    </tr>\n",
              "    <tr>\n",
              "      <th>owner</th>\n",
              "      <td>7.484663e-04</td>\n",
              "      <td>positive</td>\n",
              "    </tr>\n",
              "    <tr>\n",
              "      <th>City</th>\n",
              "      <td>2.927158e-04</td>\n",
              "      <td>negative</td>\n",
              "    </tr>\n",
              "    <tr>\n",
              "      <th>engine</th>\n",
              "      <td>8.199844e-05</td>\n",
              "      <td>positive</td>\n",
              "    </tr>\n",
              "    <tr>\n",
              "      <th>km_driven</th>\n",
              "      <td>1.963895e-07</td>\n",
              "      <td>positive</td>\n",
              "    </tr>\n",
              "    <tr>\n",
              "      <th>selling_price</th>\n",
              "      <td>9.712103e-08</td>\n",
              "      <td>positive</td>\n",
              "    </tr>\n",
              "  </tbody>\n",
              "</table>\n",
              "</div>\n",
              "      <button class=\"colab-df-convert\" onclick=\"convertToInteractive('df-86a0126d-aadf-4122-adb5-50a2d939b716')\"\n",
              "              title=\"Convert this dataframe to an interactive table.\"\n",
              "              style=\"display:none;\">\n",
              "        \n",
              "  <svg xmlns=\"http://www.w3.org/2000/svg\" height=\"24px\"viewBox=\"0 0 24 24\"\n",
              "       width=\"24px\">\n",
              "    <path d=\"M0 0h24v24H0V0z\" fill=\"none\"/>\n",
              "    <path d=\"M18.56 5.44l.94 2.06.94-2.06 2.06-.94-2.06-.94-.94-2.06-.94 2.06-2.06.94zm-11 1L8.5 8.5l.94-2.06 2.06-.94-2.06-.94L8.5 2.5l-.94 2.06-2.06.94zm10 10l.94 2.06.94-2.06 2.06-.94-2.06-.94-.94-2.06-.94 2.06-2.06.94z\"/><path d=\"M17.41 7.96l-1.37-1.37c-.4-.4-.92-.59-1.43-.59-.52 0-1.04.2-1.43.59L10.3 9.45l-7.72 7.72c-.78.78-.78 2.05 0 2.83L4 21.41c.39.39.9.59 1.41.59.51 0 1.02-.2 1.41-.59l7.78-7.78 2.81-2.81c.8-.78.8-2.07 0-2.86zM5.41 20L4 18.59l7.72-7.72 1.47 1.35L5.41 20z\"/>\n",
              "  </svg>\n",
              "      </button>\n",
              "      \n",
              "  <style>\n",
              "    .colab-df-container {\n",
              "      display:flex;\n",
              "      flex-wrap:wrap;\n",
              "      gap: 12px;\n",
              "    }\n",
              "\n",
              "    .colab-df-convert {\n",
              "      background-color: #E8F0FE;\n",
              "      border: none;\n",
              "      border-radius: 50%;\n",
              "      cursor: pointer;\n",
              "      display: none;\n",
              "      fill: #1967D2;\n",
              "      height: 32px;\n",
              "      padding: 0 0 0 0;\n",
              "      width: 32px;\n",
              "    }\n",
              "\n",
              "    .colab-df-convert:hover {\n",
              "      background-color: #E2EBFA;\n",
              "      box-shadow: 0px 1px 2px rgba(60, 64, 67, 0.3), 0px 1px 3px 1px rgba(60, 64, 67, 0.15);\n",
              "      fill: #174EA6;\n",
              "    }\n",
              "\n",
              "    [theme=dark] .colab-df-convert {\n",
              "      background-color: #3B4455;\n",
              "      fill: #D2E3FC;\n",
              "    }\n",
              "\n",
              "    [theme=dark] .colab-df-convert:hover {\n",
              "      background-color: #434B5C;\n",
              "      box-shadow: 0px 1px 3px 1px rgba(0, 0, 0, 0.15);\n",
              "      filter: drop-shadow(0px 1px 2px rgba(0, 0, 0, 0.3));\n",
              "      fill: #FFFFFF;\n",
              "    }\n",
              "  </style>\n",
              "\n",
              "      <script>\n",
              "        const buttonEl =\n",
              "          document.querySelector('#df-86a0126d-aadf-4122-adb5-50a2d939b716 button.colab-df-convert');\n",
              "        buttonEl.style.display =\n",
              "          google.colab.kernel.accessAllowed ? 'block' : 'none';\n",
              "\n",
              "        async function convertToInteractive(key) {\n",
              "          const element = document.querySelector('#df-86a0126d-aadf-4122-adb5-50a2d939b716');\n",
              "          const dataTable =\n",
              "            await google.colab.kernel.invokeFunction('convertToInteractive',\n",
              "                                                     [key], {});\n",
              "          if (!dataTable) return;\n",
              "\n",
              "          const docLinkHtml = 'Like what you see? Visit the ' +\n",
              "            '<a target=\"_blank\" href=https://colab.research.google.com/notebooks/data_table.ipynb>data table notebook</a>'\n",
              "            + ' to learn more about interactive tables.';\n",
              "          element.innerHTML = '';\n",
              "          dataTable['output_type'] = 'display_data';\n",
              "          await google.colab.output.renderOutput(dataTable, element);\n",
              "          const docLink = document.createElement('div');\n",
              "          docLink.innerHTML = docLinkHtml;\n",
              "          element.appendChild(docLink);\n",
              "        }\n",
              "      </script>\n",
              "    </div>\n",
              "  </div>\n",
              "  "
            ]
          },
          "metadata": {},
          "execution_count": 31
        }
      ]
    },
    {
      "cell_type": "code",
      "source": [
        "df = abs_coeff.sort_values(by = 0, ascending = True)\n",
        "df.plot(kind = 'barh', figsize = (10, 10))\n",
        "plt.legend(loc = 'center right')\n",
        "plt.title('Bar chart showing feature importance', fontsize = 14)\n",
        "plt.xlabel('Features', fontsize = 12)\n",
        "plt.show()"
      ],
      "metadata": {
        "colab": {
          "base_uri": "https://localhost:8080/",
          "height": 626
        },
        "id": "vK9X5r16p470",
        "outputId": "198efc20-d762-4e7f-b9a1-1ffca4854d05"
      },
      "execution_count": null,
      "outputs": [
        {
          "output_type": "display_data",
          "data": {
            "text/plain": [
              "<Figure size 720x720 with 1 Axes>"
            ],
            "image/png": "[encoded data removed]"
          },
          "metadata": {
            "needs_background": "light"
          }
        }
      ]
    },
    {
      "cell_type": "markdown",
      "metadata": {
        "id": "p0C8ihr-cBM9"
      },
      "source": [
        "# **DATA MODELLING**"
      ]
    },
    {
      "cell_type": "markdown",
      "metadata": {
        "id": "b40Z7wTtuyaR"
      },
      "source": [
        "**Class imbalance**"
      ]
    },
    {
      "cell_type": "code",
      "execution_count": null,
      "metadata": {
        "id": "ZToopO2gHqLO"
      },
      "outputs": [],
      "source": [
        "# separating features and target\n",
        "# using the most important features from LDA.\n",
        "x = data[['fuel','seller_type','transmission']]\n",
        "y = data['sold']"
      ]
    },
    {
      "cell_type": "code",
      "execution_count": null,
      "metadata": {
        "id": "YC6vFEy7uxK5"
      },
      "outputs": [],
      "source": [
        "# Splitting the data to train and test.\n",
        "from sklearn.model_selection import train_test_split \n",
        "x_train, x_test, y_train, y_test = train_test_split(x, y, test_size = 0.3, random_state = 0)"
      ]
    },
    {
      "cell_type": "markdown",
      "metadata": {
        "id": "0OFksTrf1qYg"
      },
      "source": [
        "**SMOTE**"
      ]
    },
    {
      "cell_type": "code",
      "execution_count": null,
      "metadata": {
        "colab": {
          "base_uri": "https://localhost:8080/",
          "height": 297
        },
        "id": "mZVwc12l1sfr",
        "outputId": "f0857320-02e3-4423-dce3-5e1c040f4fff"
      },
      "outputs": [
        {
          "output_type": "display_data",
          "data": {
            "text/plain": [
              "<Figure size 432x288 with 1 Axes>"
            ],
            "image/png": "[encoded data removed]"
          },
          "metadata": {
            "needs_background": "light"
          }
        }
      ],
      "source": [
        "# Using SMOTE to correct the class imbalance.\n",
        "from imblearn.over_sampling import SMOTE\n",
        "sm = SMOTE()\n",
        "x_res, y_res = sm.fit_resample(x_train, y_train)\n",
        "\n",
        "# Checking for class imbalance\n",
        "y_res.value_counts().plot(kind = 'bar')\n",
        "plt.title('new sales_count', size = 15)\n",
        "plt.ylabel('count', size = 12)\n",
        "plt.xlabel('sold or not', size = 12);\n",
        "# Class imbalance has been rectified."
      ]
    },
    {
      "cell_type": "markdown",
      "metadata": {
        "id": "6Akf2iSQxG8J"
      },
      "source": [
        "###**1.Logistic Regression Approach**"
      ]
    },
    {
      "cell_type": "markdown",
      "source": [
        "This will be the base line model."
      ],
      "metadata": {
        "id": "ZcAR28hW9q0Y"
      }
    },
    {
      "cell_type": "code",
      "execution_count": null,
      "metadata": {
        "colab": {
          "base_uri": "https://localhost:8080/"
        },
        "id": "AlcIOvuK2dba",
        "outputId": "9f3e022b-30c4-4c52-8f62-5d00797a2e4b"
      },
      "outputs": [
        {
          "output_type": "stream",
          "name": "stdout",
          "text": [
            "[[979 803]\n",
            " [329 261]]\n",
            "              precision    recall  f1-score   support\n",
            "\n",
            "           0       0.75      0.55      0.63      1782\n",
            "           1       0.25      0.44      0.32       590\n",
            "\n",
            "    accuracy                           0.52      2372\n",
            "   macro avg       0.50      0.50      0.47      2372\n",
            "weighted avg       0.62      0.52      0.55      2372\n",
            "\n"
          ]
        }
      ],
      "source": [
        "# Logistic Regression\n",
        "from sklearn.linear_model import LogisticRegression\n",
        "from sklearn import metrics\n",
        "Logreg = LogisticRegression()\n",
        "Logreg.fit(x_res, y_res)\n",
        "y_res_pred = Logreg.predict(x_test)\n",
        "print(metrics.confusion_matrix(y_test, y_res_pred))\n",
        "print(metrics.classification_report(y_test, y_res_pred))\n",
        "# There has been an improvement.\n",
        "# There are 933 true positives, 263 false positives \n",
        "# There are 849 false negatives and 327 false positives, this is an improvement from the logistic regression without treating class imbalance.\n",
        "# There has also been an improvement in the f-1 score of the 'no-sales'"
      ]
    },
    {
      "cell_type": "code",
      "source": [
        "# Hyper-parameter Tuning.\n",
        "from sklearn.model_selection import GridSearchCV\n",
        "param_grid = [    \n",
        "    {'penalty' : ['l1', 'l2', 'elasticnet', 'none'],\n",
        "    'C' : np.logspace(-4, 4, 20),\n",
        "    'solver' : ['lbfgs','newton-cg','liblinear','sag','saga'],\n",
        "    'max_iter' : [10, 1000,2500, 5000]\n",
        "    }\n",
        "]\n",
        "search = GridSearchCV(Logreg, param_grid = param_grid, scoring='precision')\n",
        "search.fit(x_res,y_res)\n",
        "print(search.best_params_)"
      ],
      "metadata": {
        "colab": {
          "base_uri": "https://localhost:8080/"
        },
        "id": "wdBQrxCyXSSJ",
        "outputId": "c2adf147-2131-4381-da97-4cafbfcde8a3"
      },
      "execution_count": null,
      "outputs": [
        {
          "output_type": "stream",
          "name": "stdout",
          "text": [
            "{'C': 0.615848211066026, 'max_iter': 10, 'penalty': 'none', 'solver': 'sag'}\n"
          ]
        }
      ]
    },
    {
      "cell_type": "code",
      "source": [
        "# Logistic regression after hyper-parameter\n",
        "Logreg = LogisticRegression(C = 0.615848211066026 , max_iter = 10, penalty = 'none', solver = 'sag')\n",
        "Logreg.fit(x_res, y_res)\n",
        "y_res_pred = Logreg.predict(x_test)\n",
        "print(metrics.confusion_matrix(y_test, y_res_pred))\n",
        "print(metrics.classification_report(y_test, y_res_pred))"
      ],
      "metadata": {
        "colab": {
          "base_uri": "https://localhost:8080/"
        },
        "id": "8a_CXEZYPAH1",
        "outputId": "e17475a0-e4a3-467e-a706-99cfefdbd4c1"
      },
      "execution_count": null,
      "outputs": [
        {
          "output_type": "stream",
          "name": "stdout",
          "text": [
            "[[987 795]\n",
            " [331 259]]\n",
            "              precision    recall  f1-score   support\n",
            "\n",
            "           0       0.75      0.55      0.64      1782\n",
            "           1       0.25      0.44      0.32       590\n",
            "\n",
            "    accuracy                           0.53      2372\n",
            "   macro avg       0.50      0.50      0.48      2372\n",
            "weighted avg       0.62      0.53      0.56      2372\n",
            "\n"
          ]
        }
      ]
    },
    {
      "cell_type": "markdown",
      "source": [
        "The **precision** using **Logistic regression** approach for cars not sold :-\n",
        "\n",
        "**Before** hyper-parameter tuning:  **0.75**(not sold) and **0.25**(sold)\n",
        "\n",
        "**After** hyper-Parameter tuning: **0.75**(not sold) and **0.27**(sold)\n",
        "\n",
        "\n",
        "\n",
        "*   The precision score for the first  remained the same for group 0.\n",
        "*   However, there was an improvement in the precision for group 1.\n",
        "*   This is the baseline model."
      ],
      "metadata": {
        "id": "fvmYMyPl5q8y"
      }
    },
    {
      "cell_type": "markdown",
      "metadata": {
        "id": "qaODVAKWqxIj"
      },
      "source": [
        "###**2.Naive Bayes**\n"
      ]
    },
    {
      "cell_type": "code",
      "source": [
        "from sklearn.naive_bayes import GaussianNB\n",
        "from sklearn import metrics\n",
        "model = GaussianNB()\n",
        "model.fit(x_res, y_res)\n",
        "y_res_pred = model.predict(x_test)\n",
        "print(metrics.confusion_matrix(y_test, y_res_pred))\n",
        "print(metrics.classification_report(y_test, y_res_pred))"
      ],
      "metadata": {
        "colab": {
          "base_uri": "https://localhost:8080/"
        },
        "id": "BqclepDYGtL7",
        "outputId": "299a408f-9bcb-4e36-cc3c-5d4c755d2f67"
      },
      "execution_count": null,
      "outputs": [
        {
          "output_type": "stream",
          "name": "stdout",
          "text": [
            "[[1365  417]\n",
            " [ 441  149]]\n",
            "              precision    recall  f1-score   support\n",
            "\n",
            "           0       0.76      0.77      0.76      1782\n",
            "           1       0.26      0.25      0.26       590\n",
            "\n",
            "    accuracy                           0.64      2372\n",
            "   macro avg       0.51      0.51      0.51      2372\n",
            "weighted avg       0.63      0.64      0.64      2372\n",
            "\n"
          ]
        }
      ]
    },
    {
      "cell_type": "code",
      "source": [
        "from sklearn.model_selection import GridSearchCV\n",
        "param_grid = {\n",
        "              'var_smoothing': np.logspace(0,-9, num=100)\n",
        "\n",
        "}\n",
        "search = GridSearchCV(estimator = model, param_grid= param_grid, scoring='precision')\n",
        "search.fit(x_res,y_res)\n",
        "print(search.best_params_)"
      ],
      "metadata": {
        "colab": {
          "base_uri": "https://localhost:8080/"
        },
        "id": "knqnJpqu78Wt",
        "outputId": "66b0c523-b9f0-410b-b755-4e188c4ad81f"
      },
      "execution_count": null,
      "outputs": [
        {
          "output_type": "stream",
          "name": "stdout",
          "text": [
            "{'var_smoothing': 0.23101297000831597}\n"
          ]
        }
      ]
    },
    {
      "cell_type": "code",
      "source": [
        "model = GaussianNB(var_smoothing = 0.23101297000831597)\n",
        "model.fit(x_res, y_res)\n",
        "y_res_pred = model.predict(x_test)\n",
        "print(metrics.confusion_matrix(y_test, y_res_pred))\n",
        "print(metrics.classification_report(y_test, y_res_pred))"
      ],
      "metadata": {
        "colab": {
          "base_uri": "https://localhost:8080/"
        },
        "id": "H4p_Bb2F9pig",
        "outputId": "0db5a9c2-9a99-4d40-d744-4ec4a83d41bd"
      },
      "execution_count": null,
      "outputs": [
        {
          "output_type": "stream",
          "name": "stdout",
          "text": [
            "[[1461  321]\n",
            " [ 471  119]]\n",
            "              precision    recall  f1-score   support\n",
            "\n",
            "           0       0.76      0.82      0.79      1782\n",
            "           1       0.27      0.20      0.23       590\n",
            "\n",
            "    accuracy                           0.67      2372\n",
            "   macro avg       0.51      0.51      0.51      2372\n",
            "weighted avg       0.64      0.67      0.65      2372\n",
            "\n"
          ]
        }
      ]
    },
    {
      "cell_type": "markdown",
      "source": [
        "The ***precision*** using ***Naive Bayes*** approach for cars not sold :-\n",
        "\n",
        "***Before*** hyper-parameter tuning:  **0.75**(not sold) and **0.25**(sold)\n",
        "\n",
        "***After*** hyper-Parameter tuning: **0.75**(not sold) and **0.25**(sold)\n",
        "\n",
        "\n",
        "\n",
        "\n",
        "\n",
        "\n",
        "*   There was however an increase in the accuracy after tuning.\n",
        "*   This model did however not perform better than baseline model.\n",
        "\n",
        "\n",
        "\n",
        "\n"
      ],
      "metadata": {
        "id": "-u2QRsK_NMOs"
      }
    },
    {
      "cell_type": "markdown",
      "metadata": {
        "id": "45vpI1bi5phN"
      },
      "source": [
        "###**3.Random Forest Approach**\n",
        "\n",
        "\n"
      ]
    },
    {
      "cell_type": "code",
      "source": [
        "# Default Random Forest.\n",
        "from sklearn.ensemble import RandomForestClassifier\n",
        "rf = RandomForestClassifier()\n",
        "rf.fit(x_res, y_res)\n",
        "y_res_pred = rf.predict(x_test)\n",
        "print(metrics.confusion_matrix(y_test, y_res_pred))\n",
        "print(metrics.classification_report(y_test, y_res_pred))"
      ],
      "metadata": {
        "colab": {
          "base_uri": "https://localhost:8080/"
        },
        "id": "Bi0zpmkA0evQ",
        "outputId": "44f288a2-6631-439e-f1c3-0e4396ec47a7"
      },
      "execution_count": null,
      "outputs": [
        {
          "output_type": "stream",
          "name": "stdout",
          "text": [
            "[[926 856]\n",
            " [296 294]]\n",
            "              precision    recall  f1-score   support\n",
            "\n",
            "           0       0.76      0.52      0.62      1782\n",
            "           1       0.26      0.50      0.34       590\n",
            "\n",
            "    accuracy                           0.51      2372\n",
            "   macro avg       0.51      0.51      0.48      2372\n",
            "weighted avg       0.63      0.51      0.55      2372\n",
            "\n"
          ]
        }
      ]
    },
    {
      "cell_type": "code",
      "source": [
        "# Hyper-parameter tuning\n",
        "from sklearn.model_selection import GridSearchCV\n",
        "parameters = {'n_estimators': np.arange(50, 500, 50),\n",
        "              'min_samples_split': np.arange(5, 30, 5),\n",
        "              'max_depth': np.arange(2,7)}\n",
        "search = GridSearchCV(estimator=rf,param_grid=parameters,scoring='f1')\n",
        "search.fit(x_res,y_res)\n",
        "print(search.best_params_)"
      ],
      "metadata": {
        "id": "2BK8NUNJSt_p"
      },
      "execution_count": null,
      "outputs": []
    },
    {
      "cell_type": "code",
      "source": [
        "# Random Forest after hyper-parameter tuning \n",
        "rf = RandomForestClassifier(n_estimators = 50, max_depth = 4, min_samples_split = 5)\n",
        "rf.fit(x_res, y_res)\n",
        "y_res_pred = rf.predict(x_test)\n",
        "print(metrics.confusion_matrix(y_test, y_res_pred))\n",
        "print(metrics.classification_report(y_test, y_res_pred))"
      ],
      "metadata": {
        "colab": {
          "base_uri": "https://localhost:8080/"
        },
        "id": "-uIS870e_7N-",
        "outputId": "ad0e8c84-70ab-4ea2-c059-8e424a2c4563"
      },
      "execution_count": null,
      "outputs": [
        {
          "output_type": "stream",
          "name": "stdout",
          "text": [
            "[[926 856]\n",
            " [296 294]]\n",
            "              precision    recall  f1-score   support\n",
            "\n",
            "           0       0.76      0.52      0.62      1782\n",
            "           1       0.26      0.50      0.34       590\n",
            "\n",
            "    accuracy                           0.51      2372\n",
            "   macro avg       0.51      0.51      0.48      2372\n",
            "weighted avg       0.63      0.51      0.55      2372\n",
            "\n"
          ]
        }
      ]
    },
    {
      "cell_type": "markdown",
      "source": [
        "The ***precision*** using ***Random Forest*** approach for cars not sold :-\n",
        "\n",
        "***Before*** hyper-parameter tuning:  **0.75**(not sold) and **0.25**(sold)\n",
        "\n",
        "***After*** hyper-Parameter tuning: **0.76**(not sold) and **0.26**(sold)\n",
        "\n",
        "\n",
        "1.   There was an improvement after hyper-parameter tuning.\n",
        "2.   This model also performed better than the base line model and it is better than Naive Bayes.\n",
        "\n",
        "\n"
      ],
      "metadata": {
        "id": "8uJdZqyX4O_b"
      }
    },
    {
      "cell_type": "markdown",
      "metadata": {
        "id": "QD31YFN8VwjK"
      },
      "source": [
        "##**4.KNN Approach**"
      ]
    },
    {
      "cell_type": "code",
      "execution_count": null,
      "metadata": {
        "id": "9WKPxY3oVzuf"
      },
      "outputs": [],
      "source": [
        "# Standardising the initial train_test_split.\n",
        "from sklearn.preprocessing import StandardScaler\n",
        "scaler = StandardScaler()\n",
        "scaler.fit(x_train)\n",
        "\n",
        "x_train = scaler.transform(x_train)\n",
        "x_test = scaler.transform(x_test)\n",
        "\n",
        "# Re-sampling the data.\n",
        "x_res, y_res = sm.fit_resample(x_train, y_train)"
      ]
    },
    {
      "cell_type": "code",
      "source": [
        "# Performing KNN\n",
        "from sklearn.neighbors import KNeighborsClassifier\n",
        "from sklearn import metrics\n",
        "classifier = KNeighborsClassifier()\n",
        "classifier.fit(x_res, y_res)\n",
        "\n",
        "y_res_pred = classifier.predict(x_test)\n",
        "\n",
        "print(metrics.confusion_matrix(y_test, y_res_pred))\n",
        "print(metrics.classification_report(y_test, y_res_pred))"
      ],
      "metadata": {
        "colab": {
          "base_uri": "https://localhost:8080/"
        },
        "id": "3YS0J-iJnKwv",
        "outputId": "6c6236cc-bc29-4084-e36d-7fa3c8b05165"
      },
      "execution_count": null,
      "outputs": [
        {
          "output_type": "stream",
          "name": "stdout",
          "text": [
            "[[1782    0]\n",
            " [ 590    0]]\n",
            "              precision    recall  f1-score   support\n",
            "\n",
            "           0       0.75      1.00      0.86      1782\n",
            "           1       0.00      0.00      0.00       590\n",
            "\n",
            "    accuracy                           0.75      2372\n",
            "   macro avg       0.38      0.50      0.43      2372\n",
            "weighted avg       0.56      0.75      0.64      2372\n",
            "\n"
          ]
        }
      ]
    },
    {
      "cell_type": "code",
      "source": [
        "# Hyper-parameter Tuning.\n",
        "from sklearn.model_selection import GridSearchCV\n",
        "param_grid = { 'n_neighbors' : [1,20,2],\n",
        "               'weights' : ['uniform','distance'],\n",
        "               'metric' : ['minkowski','euclidean','manhattan']}\n",
        "search = GridSearchCV(classifier, param_grid = param_grid, scoring='f1')\n",
        "search.fit(x_res,y_res)\n",
        "print(search.best_params_)"
      ],
      "metadata": {
        "colab": {
          "base_uri": "https://localhost:8080/"
        },
        "id": "SpRvYS4OoA0R",
        "outputId": "07076b83-0235-4fbb-a980-fa601cb066ed"
      },
      "execution_count": null,
      "outputs": [
        {
          "output_type": "stream",
          "name": "stdout",
          "text": [
            "{'metric': 'minkowski', 'n_neighbors': 1, 'weights': 'uniform'}\n"
          ]
        }
      ]
    },
    {
      "cell_type": "code",
      "source": [
        "# KNN after hyper-parameter tuning.\n",
        "classifier = KNeighborsClassifier(metric = 'minkowski', n_neighbors = 1, weights = 'uniform')\n",
        "classifier.fit(x_res, y_res)\n",
        "y_res_pred = classifier.predict(x_test)\n",
        "print(metrics.confusion_matrix(y_test, y_res_pred))\n",
        "print(metrics.classification_report(y_test, y_res_pred))"
      ],
      "metadata": {
        "colab": {
          "base_uri": "https://localhost:8080/"
        },
        "id": "t1644UdDuqXq",
        "outputId": "c351d309-1169-4119-e0ce-d04302af413d"
      },
      "execution_count": null,
      "outputs": [
        {
          "output_type": "stream",
          "name": "stdout",
          "text": [
            "[[921 861]\n",
            " [296 294]]\n",
            "              precision    recall  f1-score   support\n",
            "\n",
            "           0       0.76      0.52      0.61      1782\n",
            "           1       0.25      0.50      0.34       590\n",
            "\n",
            "    accuracy                           0.51      2372\n",
            "   macro avg       0.51      0.51      0.48      2372\n",
            "weighted avg       0.63      0.51      0.55      2372\n",
            "\n"
          ]
        }
      ]
    },
    {
      "cell_type": "markdown",
      "source": [
        "The ***precision*** using ***KNN*** approach for both categories (sold and not sold cars) :-\n",
        "\n",
        "***Before*** hyper-parameter tuning:  ***0.75***(not sold) and ***0.28***(sold)\n",
        "\n",
        "***After*** hyper-Parameter tuning: ***0.76***(not sold) and ***0.25***(sold)\n",
        "\n",
        "\n",
        "\n",
        "*   There was an increase after hyper_parameter tuning.\n",
        "*   It however did not peform better than random forest \n"
      ],
      "metadata": {
        "id": "wRoUwT8V6D9D"
      }
    },
    {
      "cell_type": "markdown",
      "metadata": {
        "id": "GCY4Fc2N-1X8"
      },
      "source": [
        "##**5.SVM Approach**"
      ]
    },
    {
      "cell_type": "code",
      "source": [
        "# Standardising the initial train_test_split.\n",
        "from sklearn.preprocessing import StandardScaler\n",
        "scaler = StandardScaler()\n",
        "scaler.fit(x_train)\n",
        "\n",
        "x_train = scaler.transform(x_train)\n",
        "x_test = scaler.transform(x_test)\n",
        "\n",
        "# Re-sampling the data.\n",
        "x_res, y_res = sm.fit_resample(x_train, y_train)"
      ],
      "metadata": {
        "id": "UOcFaL_tWlGT"
      },
      "execution_count": null,
      "outputs": []
    },
    {
      "cell_type": "code",
      "source": [
        "# Default SVM - with default hyper-parameters.\n",
        "from sklearn import metrics \n",
        "from sklearn.svm import SVC\n",
        "svc = SVC(kernel = 'sigmoid', C = 0.1, gamma = 0.1)\n",
        "svc.fit(x_res,y_res)\n",
        "\n",
        "y_res_pred = svc.predict(x_test)\n",
        "\n",
        "print(metrics.confusion_matrix(y_test, y_res_pred))\n",
        "print(metrics.classification_report(y_test, y_res_pred))"
      ],
      "metadata": {
        "colab": {
          "base_uri": "https://localhost:8080/"
        },
        "id": "qVriXqehWztq",
        "outputId": "8bf96d2c-29ba-4fac-c9cf-7befdb248a72"
      },
      "execution_count": null,
      "outputs": [
        {
          "output_type": "stream",
          "name": "stdout",
          "text": [
            "[[1496  286]\n",
            " [ 499   91]]\n",
            "              precision    recall  f1-score   support\n",
            "\n",
            "           0       0.75      0.84      0.79      1782\n",
            "           1       0.24      0.15      0.19       590\n",
            "\n",
            "    accuracy                           0.67      2372\n",
            "   macro avg       0.50      0.50      0.49      2372\n",
            "weighted avg       0.62      0.67      0.64      2372\n",
            "\n"
          ]
        }
      ]
    },
    {
      "cell_type": "code",
      "source": [
        "# Hyper-parameter Tuning.\n",
        "from sklearn.model_selection import GridSearchCV\n",
        "param_grid = {'kernel' : ['linear', 'RBF', 'poly','sigmoid'],\n",
        "              'C': [0, 0.05, 0.1, 0.5, 1, 5, 10],\n",
        "              'degree' : [2,3,4,5,6],\n",
        "              'gamma': [0.001, 0.01, 0.1, 1, 10]\n",
        "              }\n",
        "search = GridSearchCV(svc, param_grid = param_grid, scoring= 'precision')\n",
        "search.fit(x_res,y_res)\n",
        "print(search.best_params_)"
      ],
      "metadata": {
        "id": "aQaUEvqcYDoN"
      },
      "execution_count": null,
      "outputs": []
    },
    {
      "cell_type": "code",
      "source": [
        "# SVM after hyper-parameter tuning \n",
        "svc = SVC(kernel = 'linear', C = 0.1, gamma = 0.1, degree = 2)\n",
        "svc.fit(x_res,y_res)\n",
        "y_res_pred = svc.predict(x_test)\n",
        "print(metrics.confusion_matrix(y_test, y_res_pred))\n",
        "print(metrics.classification_report(y_test, y_res_pred))"
      ],
      "metadata": {
        "colab": {
          "base_uri": "https://localhost:8080/"
        },
        "id": "EM0gv4PeZibS",
        "outputId": "54c622c3-7c02-43e2-c603-f6a86c7b4071"
      },
      "execution_count": null,
      "outputs": [
        {
          "output_type": "stream",
          "name": "stdout",
          "text": [
            "[[995 787]\n",
            " [325 265]]\n",
            "              precision    recall  f1-score   support\n",
            "\n",
            "           0       0.75      0.56      0.64      1782\n",
            "           1       0.25      0.45      0.32       590\n",
            "\n",
            "    accuracy                           0.53      2372\n",
            "   macro avg       0.50      0.50      0.48      2372\n",
            "weighted avg       0.63      0.53      0.56      2372\n",
            "\n"
          ]
        }
      ]
    },
    {
      "cell_type": "markdown",
      "source": [
        "The ***precision*** using ***SVM*** approach for cars not sold :-\n",
        "\n",
        "***Before*** hyper-parameter tuning:  ***0.75***(not sold) and ***0.24***(sold)\n",
        "\n",
        "***After*** hyper-Parameter tuning: ***0.75***(not sold) and ***0.25***(sold)\n",
        "\n",
        "There was an improvement after hyper-parameter tuning.\n",
        "\n",
        "*   There was an improvement after hyper-parameter tuning.\n",
        "*   However, this model did not perform better than the baseline model.\n",
        "\n",
        "\n",
        "\n"
      ],
      "metadata": {
        "id": "DZa7bJng6cxO"
      }
    },
    {
      "cell_type": "markdown",
      "source": [
        "#**Conclusion and Recommendation**"
      ],
      "metadata": {
        "id": "qJKipu5y0Voh"
      }
    },
    {
      "cell_type": "markdown",
      "source": [
        "**Conclusion**"
      ],
      "metadata": {
        "id": "ggEAzDBb15Dh"
      }
    },
    {
      "cell_type": "markdown",
      "source": [
        "The main objective 'Creating a model that predicts if a car dealer will be able to sell a car or not' was achieved.\n",
        "\n",
        "\n",
        "\n",
        "*   The best model was the Random Forest after tuning with parameters {'max_depth': 4, 'min_samples_split': 5, 'n_estimators': 50}. It had the best precision score of 0.76 of the 'not sold' class.\n",
        "\n",
        "\n",
        "*   The main features used to model the data are 'fuel','seller_type' and 'transmission', which are the main features after doing feature selection.\n",
        "*   The relationship between the sale of a car and other predictor variables investigated is shown in the data exploratory analysis.\n",
        "\n",
        "\n",
        "\n",
        "\n",
        "\n",
        "\n"
      ],
      "metadata": {
        "id": "yJfd0Mtu18lA"
      }
    }
  ],
  "metadata": {
    "accelerator": "TPU",
    "colab": {
      "collapsed_sections": [],
      "name": "Indian car sales in USA.",
      "provenance": [],
      "toc_visible": true
    },
    "gpuClass": "standard",
    "kernelspec": {
      "display_name": "Python 3",
      "name": "python3"
    },
    "language_info": {
      "name": "python"
    }
  },
  "nbformat": 4,
  "nbformat_minor": 0
}